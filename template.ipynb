{
 "cells": [
  {
   "cell_type": "markdown",
   "metadata": {},
   "source": [
    "# Stock Trades by Members of the US House of Representatives\n",
    "\n",
    "Kelvin Nguyen\n",
    "<br>Mandy Xu</br>"
   ]
  },
  {
   "cell_type": "markdown",
   "metadata": {},
   "source": [
    "## Summary of Findings\n",
    "\n",
    "\n",
    "### Introduction\n",
    "<br>We will building a binary classifier to predict whether a trade was BUY or SELL. We decided to predict a trade's type because many other features had too many missing values or weren't suitable for a binary classifier. We also felt like we have already done a lot with political affiliation so we wanted to do something different. The features we will be using are amount and party for the baseline model, and district and month for the final model. The metric we will be using to evaluate our model is accuracy since it isn't too detrimental if we obtain a false positive or false negative.</br>\n",
    "<br>At the time of this prediction, we only have data on the 116th (2019-2020) and 117th (2021-2022) Congress. Thus, our data will only be trained within this time frame and on the members of the 116th and 117th Congress.</br>\n",
    "\n",
    "### Baseline Model\n",
    "<br>The features we decided on for the baseline model is amount and party. Amount is ordinal while party is nominal. We ordinally encoded the amount feature by obtaining the lower bound of the amount interval and using sklearn's OrdinalEncoder in ColumnTransformer to do so. For the party feature, we already created a boolean column called is_democratic from Project 3 which we used and left as is since Trues are already encoded to 1 and Falses to 0.</br>\n",
    "<br>After creating our model using LogisiticRegression, our accuracy score on the training data is about 0.54 to 0.55 and our accuracy score on the testing data is also about 0.54 to 0.55. Based on this, we believe our model is not the best because the accuracy score is only a little over 0.5.</br>\n",
    "\n",
    "### Final Model\n",
    "<br>For our final model, we added district and month in addition to the features in the baseline model. We added these features because we believed that there might be a relationship between type and the district the representative came from and the month they traded the stock.</br> \n",
    "<br>The model we ended up choosing was Support Vector Classification (SVC) and the hyperparameters we modified were gamma and C. The best hyperparameters were 0.1 for 'svm__gamma' and 1000 for 'svm__C' which gave us a test score of 0.658.</br>\n",
    "<br>We also tested two other models in addition to SVC using GridSearchCV with k=5 cross-validation: LogisiticRegression and RandomForestClassifier. For LogisiticRegression, the hyperparameters we modified were penalty, C, and solver. We obtained a test score of about 0.563. For RandomForestClassifier, we modified max_depth, n_estimators, and min_samples_split. We obtained a test score of about 0.580.</br>\n",
    "\n",
    "### Fairness Analysis\n",
    "<br>In our fairness analysis, we tried to answer the question \"Does our model perform worse for Democratic House members than it does for non-Democratic House members? Thus, our null hypothesis is \"Our model is fair. Its accuracy for Democratic House members and non-Democratic House members are roughly the same, and any differences are due to random chance\" and our alternative hypothesis is \"Our model is unfair. Its accuracy for Democratic House members is lower than its accuracy for non-Democratic House members\". Our test statistic is the difference in accuracy between political affiliations. Based on our permutation test, we obtained a p-value of 0.002 which is less than our chosen significance level of 0.05. Therefore, since we reject the null hypothesis, our conclusion is that our model is unfair.</br>"
   ]
  },
  {
   "cell_type": "markdown",
   "metadata": {},
   "source": [
    "## Code"
   ]
  },
  {
   "cell_type": "markdown",
   "metadata": {},
   "source": [
    "### Getting and Cleaning Dataset (from Project 3)"
   ]
  },
  {
   "cell_type": "code",
   "execution_count": 1,
   "metadata": {},
   "outputs": [],
   "source": [
    "import matplotlib.pyplot as plt\n",
    "import numpy as np\n",
    "import os\n",
    "import pandas as pd\n",
    "import seaborn as sns\n",
    "%config InlineBackend.figure_format = 'retina'  # Higher resolution figures\n",
    "\n",
    "import warnings\n",
    "warnings.filterwarnings('ignore')"
   ]
  },
  {
   "cell_type": "code",
   "execution_count": 2,
   "metadata": {
    "scrolled": true
   },
   "outputs": [],
   "source": [
    "# Load in datasets\n",
    "# stocks\n",
    "stocks_fp = os.path.join('data', 'all_transactions.csv')\n",
    "stocks = pd.read_csv(stocks_fp)\n",
    "\n",
    "# past House members political affiliation - 116th and 117 Congress\n",
    "reps_party_116_fp = os.path.join('data', 'house_members_116.csv')\n",
    "reps_party116 = pd.read_csv(reps_party_116_fp)\n",
    "\n",
    "reps_party_117_fp = os.path.join('data', 'house_members_117.csv')\n",
    "reps_party117 = pd.read_csv(reps_party_117_fp)"
   ]
  },
  {
   "cell_type": "code",
   "execution_count": 3,
   "metadata": {},
   "outputs": [],
   "source": [
    "# Clean stocks\n",
    "# Clean null vals\n",
    "stocks_cleaned = stocks.replace({'--': np.NaN})\n",
    "\n",
    "# Clean representative column (for merging)\n",
    "reps_split = stocks_cleaned['representative'].str.lower().str.split()\n",
    "stocks_cleaned['representative_cleaned'] = reps_split.str[1] + ' ' + reps_split.str[-1]\n",
    "\n",
    "# Clean amount column\n",
    "replace_dict = {\n",
    "    '$1,001 -': '$0 - $1000',\n",
    "    '$1,000,001 - $5,000,000': '$1,000,001 +',\n",
    "    '$1,000,000 - $5,000,000': '$1,000,001 +',\n",
    "    '$50,000,000 +': '$1,000,001 +',\n",
    "    '$15,000 - $50,000': '$15,001 - $50,000',\n",
    "    '$1,000,000 +': '$1,000,001 +',\n",
    "    '$1,000 - $15,000': '$1,001 - $15,000',\n",
    "    '$5,000,001 - $25,000,000': '$1,000,001 +'\n",
    "    \n",
    "}\n",
    "stocks_cleaned['amount_cleaned'] = stocks_cleaned['amount'].replace(replace_dict)\n",
    "\n",
    "# Clean reps_party116\n",
    "# Clean name column (for merging)\n",
    "reps_party_116_cleaned = reps_party116[['name', 'current_party']]\n",
    "reps_party_116_cleaned.loc[:, 'name'] = reps_party_116_cleaned['name'].str.replace('-', ' ').str.lower()\n",
    "reps_party_116_cleaned = reps_party_116_cleaned.set_index('name')\n",
    "\n",
    "# Clean reps_party117\n",
    "# Clean column names and Member column (for merging)\n",
    "reps_party_117_cleaned = reps_party117[['Member', 'Party.1']]\n",
    "reps_117_split = reps_party_117_cleaned['Member'].str.lower().str.split()\n",
    "reps_party_117_cleaned.loc[:, 'Member'] = reps_117_split.str[0] + ' ' + reps_117_split.str[-1]\n",
    "reps_party_117_cleaned = reps_party_117_cleaned.rename(columns={'Party.1': 'Party'}).set_index('Member')"
   ]
  },
  {
   "cell_type": "code",
   "execution_count": 4,
   "metadata": {
    "scrolled": true
   },
   "outputs": [],
   "source": [
    "# Merge reps_party_116_cleaned and reps_party_117_cleaned\n",
    "merge_parties = reps_party_116_cleaned.merge(reps_party_117_cleaned, \n",
    "                                             how='outer', \n",
    "                                             left_index=True,\n",
    "                                             right_index=True).reset_index()\n",
    "merge_parties = (\n",
    "    merge_parties.bfill(axis=1)[['index', 'current_party']].set_index('index')\n",
    ")\n",
    "\n",
    "# Merge stocks and merge_parties\n",
    "stocks_cleaned_test = stocks_cleaned.set_index('representative_cleaned')\n",
    "merged = stocks_cleaned_test.merge(merge_parties, how='left', left_index=True, right_index=True).reset_index()"
   ]
  },
  {
   "cell_type": "code",
   "execution_count": 5,
   "metadata": {},
   "outputs": [
    {
     "data": {
      "text/html": [
       "<div>\n",
       "<style scoped>\n",
       "    .dataframe tbody tr th:only-of-type {\n",
       "        vertical-align: middle;\n",
       "    }\n",
       "\n",
       "    .dataframe tbody tr th {\n",
       "        vertical-align: top;\n",
       "    }\n",
       "\n",
       "    .dataframe thead th {\n",
       "        text-align: right;\n",
       "    }\n",
       "</style>\n",
       "<table border=\"1\" class=\"dataframe\">\n",
       "  <thead>\n",
       "    <tr style=\"text-align: right;\">\n",
       "      <th></th>\n",
       "      <th>representative_cleaned</th>\n",
       "      <th>disclosure_year</th>\n",
       "      <th>disclosure_date</th>\n",
       "      <th>transaction_date</th>\n",
       "      <th>owner</th>\n",
       "      <th>ticker</th>\n",
       "      <th>asset_description</th>\n",
       "      <th>type</th>\n",
       "      <th>amount</th>\n",
       "      <th>representative</th>\n",
       "      <th>district</th>\n",
       "      <th>ptr_link</th>\n",
       "      <th>cap_gains_over_200_usd</th>\n",
       "      <th>amount_cleaned</th>\n",
       "      <th>current_party</th>\n",
       "      <th>is_democratic</th>\n",
       "    </tr>\n",
       "  </thead>\n",
       "  <tbody>\n",
       "    <tr>\n",
       "      <th>0</th>\n",
       "      <td>abigail spanberger</td>\n",
       "      <td>2021</td>\n",
       "      <td>06/03/2021</td>\n",
       "      <td>2021-06-01</td>\n",
       "      <td>self</td>\n",
       "      <td>LHX</td>\n",
       "      <td>L3Harris Special Stock Grant</td>\n",
       "      <td>purchase</td>\n",
       "      <td>$1,001 - $15,000</td>\n",
       "      <td>Hon. Abigail Spanberger</td>\n",
       "      <td>VA07</td>\n",
       "      <td>https://urldefense.com/v3/__https://disclosures-clerk.house.gov/public_dis__;!!Mih3wA!C4zLWSCBWRaQgfdatE0RTdk_z0CWoRqZf1BZssCEJSXXv5YnFqGotT4gVBEynILw7p3Zp5jTZwmydQTkUA$  ...</td>\n",
       "      <td>False</td>\n",
       "      <td>$1,001 - $15,000</td>\n",
       "      <td>Democratic</td>\n",
       "      <td>True</td>\n",
       "    </tr>\n",
       "    <tr>\n",
       "      <th>1</th>\n",
       "      <td>abigail spanberger</td>\n",
       "      <td>2020</td>\n",
       "      <td>03/20/2020</td>\n",
       "      <td>2020-02-28</td>\n",
       "      <td>self</td>\n",
       "      <td>NaN</td>\n",
       "      <td>L3Harris Special Stock Grant</td>\n",
       "      <td>purchase</td>\n",
       "      <td>$1,001 - $15,000</td>\n",
       "      <td>Hon. Abigail Spanberger</td>\n",
       "      <td>VA07</td>\n",
       "      <td>https://urldefense.com/v3/__https://disclosures-clerk.house.gov/public_dis__;!!Mih3wA!C4zLWSCBWRaQgfdatE0RTdk_z0CWoRqZf1BZssCEJSXXv5YnFqGotT4gVBEynILw7p3Zp5jTZwmydQTkUA$  ...</td>\n",
       "      <td>False</td>\n",
       "      <td>$1,001 - $15,000</td>\n",
       "      <td>Democratic</td>\n",
       "      <td>True</td>\n",
       "    </tr>\n",
       "    <tr>\n",
       "      <th>2</th>\n",
       "      <td>adam kinzinger</td>\n",
       "      <td>2020</td>\n",
       "      <td>07/21/2020</td>\n",
       "      <td>2020-06-09</td>\n",
       "      <td>NaN</td>\n",
       "      <td>AAL</td>\n",
       "      <td>American Airlines Group, Inc.</td>\n",
       "      <td>purchase</td>\n",
       "      <td>$1,001 - $15,000</td>\n",
       "      <td>Hon. Adam Kinzinger</td>\n",
       "      <td>IL16</td>\n",
       "      <td>https://urldefense.com/v3/__https://disclosures-clerk.house.gov/public_dis__;!!Mih3wA!C4zLWSCBWRaQgfdatE0RTdk_z0CWoRqZf1BZssCEJSXXv5YnFqGotT4gVBEynILw7p3Zp5jTZwmydQTkUA$  ...</td>\n",
       "      <td>False</td>\n",
       "      <td>$1,001 - $15,000</td>\n",
       "      <td>Republican</td>\n",
       "      <td>False</td>\n",
       "    </tr>\n",
       "    <tr>\n",
       "      <th>3</th>\n",
       "      <td>adam kinzinger</td>\n",
       "      <td>2020</td>\n",
       "      <td>07/21/2020</td>\n",
       "      <td>2020-06-11</td>\n",
       "      <td>NaN</td>\n",
       "      <td>AAL</td>\n",
       "      <td>American Airlines Group, Inc.</td>\n",
       "      <td>purchase</td>\n",
       "      <td>$1,001 - $15,000</td>\n",
       "      <td>Hon. Adam Kinzinger</td>\n",
       "      <td>IL16</td>\n",
       "      <td>https://urldefense.com/v3/__https://disclosures-clerk.house.gov/public_dis__;!!Mih3wA!C4zLWSCBWRaQgfdatE0RTdk_z0CWoRqZf1BZssCEJSXXv5YnFqGotT4gVBEynILw7p3Zp5jTZwmydQTkUA$  ...</td>\n",
       "      <td>False</td>\n",
       "      <td>$1,001 - $15,000</td>\n",
       "      <td>Republican</td>\n",
       "      <td>False</td>\n",
       "    </tr>\n",
       "    <tr>\n",
       "      <th>4</th>\n",
       "      <td>adam kinzinger</td>\n",
       "      <td>2020</td>\n",
       "      <td>07/21/2020</td>\n",
       "      <td>2020-06-25</td>\n",
       "      <td>NaN</td>\n",
       "      <td>AAL</td>\n",
       "      <td>American Airlines Group, Inc.</td>\n",
       "      <td>purchase</td>\n",
       "      <td>$1,001 - $15,000</td>\n",
       "      <td>Hon. Adam Kinzinger</td>\n",
       "      <td>IL16</td>\n",
       "      <td>https://urldefense.com/v3/__https://disclosures-clerk.house.gov/public_dis__;!!Mih3wA!C4zLWSCBWRaQgfdatE0RTdk_z0CWoRqZf1BZssCEJSXXv5YnFqGotT4gVBEynILw7p3Zp5jTZwmydQTkUA$  ...</td>\n",
       "      <td>False</td>\n",
       "      <td>$1,001 - $15,000</td>\n",
       "      <td>Republican</td>\n",
       "      <td>False</td>\n",
       "    </tr>\n",
       "  </tbody>\n",
       "</table>\n",
       "</div>"
      ],
      "text/plain": [
       "  representative_cleaned  disclosure_year disclosure_date transaction_date  \\\n",
       "0     abigail spanberger             2021      06/03/2021       2021-06-01   \n",
       "1     abigail spanberger             2020      03/20/2020       2020-02-28   \n",
       "2         adam kinzinger             2020      07/21/2020       2020-06-09   \n",
       "3         adam kinzinger             2020      07/21/2020       2020-06-11   \n",
       "4         adam kinzinger             2020      07/21/2020       2020-06-25   \n",
       "\n",
       "  owner ticker              asset_description      type            amount  \\\n",
       "0  self    LHX   L3Harris Special Stock Grant  purchase  $1,001 - $15,000   \n",
       "1  self    NaN   L3Harris Special Stock Grant  purchase  $1,001 - $15,000   \n",
       "2   NaN    AAL  American Airlines Group, Inc.  purchase  $1,001 - $15,000   \n",
       "3   NaN    AAL  American Airlines Group, Inc.  purchase  $1,001 - $15,000   \n",
       "4   NaN    AAL  American Airlines Group, Inc.  purchase  $1,001 - $15,000   \n",
       "\n",
       "            representative district  \\\n",
       "0  Hon. Abigail Spanberger     VA07   \n",
       "1  Hon. Abigail Spanberger     VA07   \n",
       "2      Hon. Adam Kinzinger     IL16   \n",
       "3      Hon. Adam Kinzinger     IL16   \n",
       "4      Hon. Adam Kinzinger     IL16   \n",
       "\n",
       "                                            ptr_link  cap_gains_over_200_usd  \\\n",
       "0  https://urldefense.com/v3/__https://disclosures-clerk.house.gov/public_dis__;!!Mih3wA!C4zLWSCBWRaQgfdatE0RTdk_z0CWoRqZf1BZssCEJSXXv5YnFqGotT4gVBEynILw7p3Zp5jTZwmydQTkUA$  ...                   False   \n",
       "1  https://urldefense.com/v3/__https://disclosures-clerk.house.gov/public_dis__;!!Mih3wA!C4zLWSCBWRaQgfdatE0RTdk_z0CWoRqZf1BZssCEJSXXv5YnFqGotT4gVBEynILw7p3Zp5jTZwmydQTkUA$  ...                   False   \n",
       "2  https://urldefense.com/v3/__https://disclosures-clerk.house.gov/public_dis__;!!Mih3wA!C4zLWSCBWRaQgfdatE0RTdk_z0CWoRqZf1BZssCEJSXXv5YnFqGotT4gVBEynILw7p3Zp5jTZwmydQTkUA$  ...                   False   \n",
       "3  https://urldefense.com/v3/__https://disclosures-clerk.house.gov/public_dis__;!!Mih3wA!C4zLWSCBWRaQgfdatE0RTdk_z0CWoRqZf1BZssCEJSXXv5YnFqGotT4gVBEynILw7p3Zp5jTZwmydQTkUA$  ...                   False   \n",
       "4  https://urldefense.com/v3/__https://disclosures-clerk.house.gov/public_dis__;!!Mih3wA!C4zLWSCBWRaQgfdatE0RTdk_z0CWoRqZf1BZssCEJSXXv5YnFqGotT4gVBEynILw7p3Zp5jTZwmydQTkUA$  ...                   False   \n",
       "\n",
       "     amount_cleaned current_party  is_democratic  \n",
       "0  $1,001 - $15,000    Democratic           True  \n",
       "1  $1,001 - $15,000    Democratic           True  \n",
       "2  $1,001 - $15,000    Republican          False  \n",
       "3  $1,001 - $15,000    Republican          False  \n",
       "4  $1,001 - $15,000    Republican          False  "
      ]
     },
     "execution_count": 5,
     "metadata": {},
     "output_type": "execute_result"
    }
   ],
   "source": [
    "# Fill in missing political parties\n",
    "keys = merged[merged['current_party'].isna()]['index'].unique()\n",
    "parties = ['r','d','r','r','r','r','r','d','r','r','r','r','r','r','r','r','r','r','r','d','d','r','d']\n",
    "fill_vals = dict(zip(keys, parties))\n",
    "merged = merged.set_index('index')\n",
    "merged['current_party'] = merged['current_party'].fillna(value = fill_vals).replace({'r': 'Republican', 'd': 'Democratic'})\n",
    "merged = merged.reset_index()\n",
    "\n",
    "# Rename 'index' to 'representative_cleaned'\n",
    "merged = merged.rename(columns={'index': 'representative_cleaned'})\n",
    "\n",
    "# Add is_democratic column\n",
    "merged['is_democratic'] = merged['current_party'].apply(lambda x: True if x == 'Democratic' else False)\n",
    "merged.head()"
   ]
  },
  {
   "cell_type": "markdown",
   "metadata": {},
   "source": [
    "### Baseline Model"
   ]
  },
  {
   "cell_type": "markdown",
   "metadata": {},
   "source": [
    "#### Cleaning and Encoding Columns"
   ]
  },
  {
   "cell_type": "code",
   "execution_count": 6,
   "metadata": {
    "scrolled": true
   },
   "outputs": [
    {
     "data": {
      "text/html": [
       "<div>\n",
       "<style scoped>\n",
       "    .dataframe tbody tr th:only-of-type {\n",
       "        vertical-align: middle;\n",
       "    }\n",
       "\n",
       "    .dataframe tbody tr th {\n",
       "        vertical-align: top;\n",
       "    }\n",
       "\n",
       "    .dataframe thead th {\n",
       "        text-align: right;\n",
       "    }\n",
       "</style>\n",
       "<table border=\"1\" class=\"dataframe\">\n",
       "  <thead>\n",
       "    <tr style=\"text-align: right;\">\n",
       "      <th></th>\n",
       "      <th>amount_cleaned</th>\n",
       "      <th>is_democratic</th>\n",
       "      <th>district</th>\n",
       "      <th>transaction_date</th>\n",
       "      <th>type</th>\n",
       "    </tr>\n",
       "  </thead>\n",
       "  <tbody>\n",
       "    <tr>\n",
       "      <th>0</th>\n",
       "      <td>$1,001 - $15,000</td>\n",
       "      <td>True</td>\n",
       "      <td>VA07</td>\n",
       "      <td>2021-06-01</td>\n",
       "      <td>purchase</td>\n",
       "    </tr>\n",
       "    <tr>\n",
       "      <th>1</th>\n",
       "      <td>$1,001 - $15,000</td>\n",
       "      <td>True</td>\n",
       "      <td>VA07</td>\n",
       "      <td>2020-02-28</td>\n",
       "      <td>purchase</td>\n",
       "    </tr>\n",
       "    <tr>\n",
       "      <th>2</th>\n",
       "      <td>$1,001 - $15,000</td>\n",
       "      <td>False</td>\n",
       "      <td>IL16</td>\n",
       "      <td>2020-06-09</td>\n",
       "      <td>purchase</td>\n",
       "    </tr>\n",
       "    <tr>\n",
       "      <th>3</th>\n",
       "      <td>$1,001 - $15,000</td>\n",
       "      <td>False</td>\n",
       "      <td>IL16</td>\n",
       "      <td>2020-06-11</td>\n",
       "      <td>purchase</td>\n",
       "    </tr>\n",
       "    <tr>\n",
       "      <th>4</th>\n",
       "      <td>$1,001 - $15,000</td>\n",
       "      <td>False</td>\n",
       "      <td>IL16</td>\n",
       "      <td>2020-06-25</td>\n",
       "      <td>purchase</td>\n",
       "    </tr>\n",
       "  </tbody>\n",
       "</table>\n",
       "</div>"
      ],
      "text/plain": [
       "     amount_cleaned  is_democratic district transaction_date      type\n",
       "0  $1,001 - $15,000           True     VA07       2021-06-01  purchase\n",
       "1  $1,001 - $15,000           True     VA07       2020-02-28  purchase\n",
       "2  $1,001 - $15,000          False     IL16       2020-06-09  purchase\n",
       "3  $1,001 - $15,000          False     IL16       2020-06-11  purchase\n",
       "4  $1,001 - $15,000          False     IL16       2020-06-25  purchase"
      ]
     },
     "execution_count": 6,
     "metadata": {},
     "output_type": "execute_result"
    }
   ],
   "source": [
    "stocks_df = merged[['amount_cleaned', 'is_democratic', 'district', 'transaction_date', 'type']]\n",
    "stocks_df.head()"
   ]
  },
  {
   "cell_type": "code",
   "execution_count": 7,
   "metadata": {
    "scrolled": true
   },
   "outputs": [
    {
     "data": {
      "text/html": [
       "<div>\n",
       "<style scoped>\n",
       "    .dataframe tbody tr th:only-of-type {\n",
       "        vertical-align: middle;\n",
       "    }\n",
       "\n",
       "    .dataframe tbody tr th {\n",
       "        vertical-align: top;\n",
       "    }\n",
       "\n",
       "    .dataframe thead th {\n",
       "        text-align: right;\n",
       "    }\n",
       "</style>\n",
       "<table border=\"1\" class=\"dataframe\">\n",
       "  <thead>\n",
       "    <tr style=\"text-align: right;\">\n",
       "      <th></th>\n",
       "      <th>amount_cleaned</th>\n",
       "      <th>is_democratic</th>\n",
       "      <th>district</th>\n",
       "      <th>transaction_date</th>\n",
       "      <th>type</th>\n",
       "      <th>amount_lower</th>\n",
       "      <th>is_purchase</th>\n",
       "      <th>state</th>\n",
       "      <th>transaction_month</th>\n",
       "    </tr>\n",
       "  </thead>\n",
       "  <tbody>\n",
       "    <tr>\n",
       "      <th>0</th>\n",
       "      <td>$1,001 - $15,000</td>\n",
       "      <td>True</td>\n",
       "      <td>VA07</td>\n",
       "      <td>2021-06-01</td>\n",
       "      <td>purchase</td>\n",
       "      <td>1001.0</td>\n",
       "      <td>True</td>\n",
       "      <td>VA</td>\n",
       "      <td>6</td>\n",
       "    </tr>\n",
       "    <tr>\n",
       "      <th>1</th>\n",
       "      <td>$1,001 - $15,000</td>\n",
       "      <td>True</td>\n",
       "      <td>VA07</td>\n",
       "      <td>2020-02-28</td>\n",
       "      <td>purchase</td>\n",
       "      <td>1001.0</td>\n",
       "      <td>True</td>\n",
       "      <td>VA</td>\n",
       "      <td>2</td>\n",
       "    </tr>\n",
       "    <tr>\n",
       "      <th>2</th>\n",
       "      <td>$1,001 - $15,000</td>\n",
       "      <td>False</td>\n",
       "      <td>IL16</td>\n",
       "      <td>2020-06-09</td>\n",
       "      <td>purchase</td>\n",
       "      <td>1001.0</td>\n",
       "      <td>True</td>\n",
       "      <td>IL</td>\n",
       "      <td>6</td>\n",
       "    </tr>\n",
       "    <tr>\n",
       "      <th>3</th>\n",
       "      <td>$1,001 - $15,000</td>\n",
       "      <td>False</td>\n",
       "      <td>IL16</td>\n",
       "      <td>2020-06-11</td>\n",
       "      <td>purchase</td>\n",
       "      <td>1001.0</td>\n",
       "      <td>True</td>\n",
       "      <td>IL</td>\n",
       "      <td>6</td>\n",
       "    </tr>\n",
       "    <tr>\n",
       "      <th>4</th>\n",
       "      <td>$1,001 - $15,000</td>\n",
       "      <td>False</td>\n",
       "      <td>IL16</td>\n",
       "      <td>2020-06-25</td>\n",
       "      <td>purchase</td>\n",
       "      <td>1001.0</td>\n",
       "      <td>True</td>\n",
       "      <td>IL</td>\n",
       "      <td>6</td>\n",
       "    </tr>\n",
       "  </tbody>\n",
       "</table>\n",
       "</div>"
      ],
      "text/plain": [
       "     amount_cleaned  is_democratic district transaction_date      type  \\\n",
       "0  $1,001 - $15,000           True     VA07       2021-06-01  purchase   \n",
       "1  $1,001 - $15,000           True     VA07       2020-02-28  purchase   \n",
       "2  $1,001 - $15,000          False     IL16       2020-06-09  purchase   \n",
       "3  $1,001 - $15,000          False     IL16       2020-06-11  purchase   \n",
       "4  $1,001 - $15,000          False     IL16       2020-06-25  purchase   \n",
       "\n",
       "   amount_lower  is_purchase state  transaction_month  \n",
       "0        1001.0         True    VA                  6  \n",
       "1        1001.0         True    VA                  2  \n",
       "2        1001.0         True    IL                  6  \n",
       "3        1001.0         True    IL                  6  \n",
       "4        1001.0         True    IL                  6  "
      ]
     },
     "execution_count": 7,
     "metadata": {},
     "output_type": "execute_result"
    }
   ],
   "source": [
    "# amount - create lower bound\n",
    "stocks_df['amount_lower'] = (stocks_df['amount_cleaned'].str.split(' - ')\n",
    "                                                        .str[0].str.replace('$', '')\n",
    "                                                        .str.replace(',', '')\n",
    "                                                        .str.replace('+', '')\n",
    "                                                        .str.replace(' ', '')\n",
    "                                                        .astype(float))\n",
    "\n",
    "# type - remove\n",
    "stocks_df = stocks_df[stocks_df['type'] != 'exchange']\n",
    "stocks_df['is_purchase'] = stocks_df['type'].str.contains('purchase')\n",
    "stocks_df['state'] = stocks_df['district'].str[:2]\n",
    "\n",
    "# transaction_date - get month\n",
    "stocks_df['transaction_month'] = stocks_df['transaction_date'].str.split('-').str[1].astype(int)\n",
    "stocks_df.head()"
   ]
  },
  {
   "cell_type": "markdown",
   "metadata": {},
   "source": [
    "#### Creating Baseline Model"
   ]
  },
  {
   "cell_type": "code",
   "execution_count": 8,
   "metadata": {},
   "outputs": [],
   "source": [
    "from sklearn.compose import ColumnTransformer\n",
    "from sklearn.pipeline import Pipeline\n",
    "from sklearn.preprocessing import OrdinalEncoder\n",
    "from sklearn.preprocessing import OneHotEncoder\n",
    "from sklearn.model_selection import train_test_split\n",
    "from sklearn.linear_model import LogisticRegression"
   ]
  },
  {
   "cell_type": "code",
   "execution_count": 9,
   "metadata": {
    "scrolled": true
   },
   "outputs": [],
   "source": [
    "preproc = ColumnTransformer(\n",
    "    transformers=[\n",
    "        ('ord-encoder', OrdinalEncoder(), ['amount_lower'])\n",
    "    ],\n",
    "    remainder='passthrough'\n",
    ")\n",
    "\n",
    "pl = Pipeline([\n",
    "    ('preprocessor', preproc),\n",
    "    ('log-reg', LogisticRegression())\n",
    "])\n",
    "\n",
    "X = stocks_df[['is_democratic', 'amount_lower']]\n",
    "y = stocks_df['is_purchase']\n",
    "X_train, X_test, y_train, y_test = train_test_split(X, y, test_size=0.25)"
   ]
  },
  {
   "cell_type": "code",
   "execution_count": 10,
   "metadata": {},
   "outputs": [
    {
     "data": {
      "text/plain": [
       "0.5475241889584519"
      ]
     },
     "execution_count": 10,
     "metadata": {},
     "output_type": "execute_result"
    }
   ],
   "source": [
    "pl.fit(X_train, y_train)\n",
    "pl.score(X_train, y_train)"
   ]
  },
  {
   "cell_type": "code",
   "execution_count": 11,
   "metadata": {},
   "outputs": [
    {
     "data": {
      "text/plain": [
       "0.5445234708392603"
      ]
     },
     "execution_count": 11,
     "metadata": {},
     "output_type": "execute_result"
    }
   ],
   "source": [
    "pl.score(X_test, y_test)"
   ]
  },
  {
   "cell_type": "markdown",
   "metadata": {},
   "source": [
    "### Final Model"
   ]
  },
  {
   "cell_type": "code",
   "execution_count": 12,
   "metadata": {},
   "outputs": [],
   "source": [
    "from sklearn.model_selection import GridSearchCV\n",
    "from sklearn.ensemble import RandomForestClassifier\n",
    "from sklearn.svm import SVC"
   ]
  },
  {
   "cell_type": "code",
   "execution_count": 26,
   "metadata": {},
   "outputs": [],
   "source": [
    "preproc = ColumnTransformer(\n",
    "    transformers=[\n",
    "        ('ord-encoder', OrdinalEncoder(), ['amount_lower']),\n",
    "        ('one-hot', OneHotEncoder(), ['state', 'transaction_month']),\n",
    "    ],\n",
    "    remainder='passthrough'\n",
    ")\n",
    "\n",
    "X = stocks_df[['is_democratic', 'amount_lower', 'state', 'transaction_month']]\n",
    "y = stocks_df['is_purchase']\n",
    "X_train, X_test, y_train, y_test = train_test_split(X, y, test_size=0.25)"
   ]
  },
  {
   "cell_type": "code",
   "execution_count": 14,
   "metadata": {
    "scrolled": true
   },
   "outputs": [
    {
     "name": "stdout",
     "output_type": "stream",
     "text": [
      "{'svm__C': 0.1, 'svm__gamma': 1}\n"
     ]
    },
    {
     "data": {
      "text/plain": [
       "0.6739707835325365"
      ]
     },
     "execution_count": 14,
     "metadata": {},
     "output_type": "execute_result"
    }
   ],
   "source": [
    "pl_svc = Pipeline([\n",
    "    ('preprocessor', preproc),\n",
    "    ('svm', SVC())\n",
    "])\n",
    "\n",
    "hyperparams_svc = {\n",
    "    'svm__gamma': [1, 0.1, 0.01, 0.001, 0.0001],\n",
    "    'svm__C': [0.1, 1, 10, 100, 1000]\n",
    "}\n",
    "\n",
    "best_mdl = GridSearchCV(pl_svc, param_grid=hyperparams_svc, scoring='accuracy', cv=5)\n",
    "best_mdl.fit(X_train, y_train)\n",
    "print(best_mdl.best_params_)\n",
    "best_mdl.score(X_train, y_train)"
   ]
  },
  {
   "cell_type": "code",
   "execution_count": 15,
   "metadata": {},
   "outputs": [
    {
     "data": {
      "text/plain": [
       "0.658321479374111"
      ]
     },
     "execution_count": 15,
     "metadata": {},
     "output_type": "execute_result"
    }
   ],
   "source": [
    "best_mdl.score(X_test, y_test)"
   ]
  },
  {
   "cell_type": "code",
   "execution_count": 16,
   "metadata": {},
   "outputs": [
    {
     "name": "stdout",
     "output_type": "stream",
     "text": [
      "{'lr__C': 0.001, 'lr__penalty': 'l2', 'lr__solver': 'newton-cg'}\n"
     ]
    },
    {
     "data": {
      "text/plain": [
       "0.5549231644849175"
      ]
     },
     "execution_count": 16,
     "metadata": {},
     "output_type": "execute_result"
    }
   ],
   "source": [
    "# LogisiticRegression\n",
    "pl_lr = Pipeline([\n",
    "    ('preprocessor', preproc),\n",
    "    ('lr', LogisticRegression())\n",
    "])\n",
    "\n",
    "hyperparams_lr = {\n",
    "    'lr__penalty': ['l2'],\n",
    "    'lr__C': np.logspace(-3,3,7),\n",
    "    'lr__solver': ['newton-cg', 'lbfgs', 'liblinear', 'sag', 'saga']\n",
    "}\n",
    "\n",
    "mdl_lr = GridSearchCV(pl_lr, param_grid=hyperparams_lr, scoring='accuracy', cv=5)\n",
    "mdl_lr.fit(X_train, y_train)\n",
    "print(mdl_lr.best_params_)\n",
    "mdl_lr.score(X_train, y_train)"
   ]
  },
  {
   "cell_type": "code",
   "execution_count": 17,
   "metadata": {},
   "outputs": [
    {
     "data": {
      "text/plain": [
       "0.5627311522048364"
      ]
     },
     "execution_count": 17,
     "metadata": {},
     "output_type": "execute_result"
    }
   ],
   "source": [
    "mdl_lr.score(X_test, y_test)"
   ]
  },
  {
   "cell_type": "code",
   "execution_count": 19,
   "metadata": {},
   "outputs": [
    {
     "name": "stdout",
     "output_type": "stream",
     "text": [
      "{'rf__max_depth': 2, 'rf__min_samples_split': 2, 'rf__n_estimators': 20}\n"
     ]
    },
    {
     "data": {
      "text/plain": [
       "0.5714285714285714"
      ]
     },
     "execution_count": 19,
     "metadata": {},
     "output_type": "execute_result"
    }
   ],
   "source": [
    "# RandomForestClassifier\n",
    "pl_rf = Pipeline([\n",
    "    ('preprocessor', preproc),\n",
    "    ('rf', RandomForestClassifier())\n",
    "])\n",
    "\n",
    "hyperparams_rf = {\n",
    "    'rf__max_depth': np.arange(2, 11, 1),\n",
    "    'rf__n_estimators': np.arange(20, 151, 10),\n",
    "    'rf__min_samples_split': np.arange(2, 11, 1)\n",
    "}\n",
    "\n",
    "mdl_rf = GridSearchCV(pl_rf, param_grid=hyperparams_rf, scoring='accuracy', cv=5)\n",
    "mdl_rf.fit(X_train, y_train)\n",
    "print(mdl_rf.best_params_)\n",
    "mdl_rf.score(X_train, y_train)"
   ]
  },
  {
   "cell_type": "code",
   "execution_count": 20,
   "metadata": {},
   "outputs": [
    {
     "data": {
      "text/plain": [
       "0.5800853485064011"
      ]
     },
     "execution_count": 20,
     "metadata": {},
     "output_type": "execute_result"
    }
   ],
   "source": [
    "mdl_rf.score(X_test, y_test)"
   ]
  },
  {
   "cell_type": "markdown",
   "metadata": {},
   "source": [
    "### Fairness Analysis"
   ]
  },
  {
   "cell_type": "code",
   "execution_count": 24,
   "metadata": {},
   "outputs": [],
   "source": [
    "from sklearn import metrics"
   ]
  },
  {
   "cell_type": "code",
   "execution_count": 27,
   "metadata": {},
   "outputs": [
    {
     "data": {
      "text/html": [
       "<div>\n",
       "<style scoped>\n",
       "    .dataframe tbody tr th:only-of-type {\n",
       "        vertical-align: middle;\n",
       "    }\n",
       "\n",
       "    .dataframe tbody tr th {\n",
       "        vertical-align: top;\n",
       "    }\n",
       "\n",
       "    .dataframe thead th {\n",
       "        text-align: right;\n",
       "    }\n",
       "</style>\n",
       "<table border=\"1\" class=\"dataframe\">\n",
       "  <thead>\n",
       "    <tr style=\"text-align: right;\">\n",
       "      <th></th>\n",
       "      <th>is_democratic</th>\n",
       "      <th>amount_lower</th>\n",
       "      <th>state</th>\n",
       "      <th>transaction_month</th>\n",
       "      <th>prediction</th>\n",
       "      <th>party</th>\n",
       "    </tr>\n",
       "  </thead>\n",
       "  <tbody>\n",
       "    <tr>\n",
       "      <th>3544</th>\n",
       "      <td>True</td>\n",
       "      <td>15001.0</td>\n",
       "      <td>FL</td>\n",
       "      <td>6</td>\n",
       "      <td>False</td>\n",
       "      <td>False</td>\n",
       "    </tr>\n",
       "    <tr>\n",
       "      <th>12219</th>\n",
       "      <td>True</td>\n",
       "      <td>15001.0</td>\n",
       "      <td>CA</td>\n",
       "      <td>2</td>\n",
       "      <td>True</td>\n",
       "      <td>True</td>\n",
       "    </tr>\n",
       "    <tr>\n",
       "      <th>8998</th>\n",
       "      <td>True</td>\n",
       "      <td>1001.0</td>\n",
       "      <td>OR</td>\n",
       "      <td>2</td>\n",
       "      <td>True</td>\n",
       "      <td>True</td>\n",
       "    </tr>\n",
       "    <tr>\n",
       "      <th>10698</th>\n",
       "      <td>False</td>\n",
       "      <td>100001.0</td>\n",
       "      <td>TX</td>\n",
       "      <td>11</td>\n",
       "      <td>True</td>\n",
       "      <td>False</td>\n",
       "    </tr>\n",
       "    <tr>\n",
       "      <th>699</th>\n",
       "      <td>False</td>\n",
       "      <td>1000001.0</td>\n",
       "      <td>IA</td>\n",
       "      <td>3</td>\n",
       "      <td>True</td>\n",
       "      <td>False</td>\n",
       "    </tr>\n",
       "  </tbody>\n",
       "</table>\n",
       "</div>"
      ],
      "text/plain": [
       "       is_democratic  amount_lower state  transaction_month  prediction  party\n",
       "3544            True       15001.0    FL                  6       False  False\n",
       "12219           True       15001.0    CA                  2        True   True\n",
       "8998            True        1001.0    OR                  2        True   True\n",
       "10698          False      100001.0    TX                 11        True  False\n",
       "699            False     1000001.0    IA                  3        True  False"
      ]
     },
     "execution_count": 27,
     "metadata": {},
     "output_type": "execute_result"
    }
   ],
   "source": [
    "results = X_test\n",
    "results['prediction'] = best_mdl.predict(X_test)\n",
    "results['party'] = y_test\n",
    "results.head()"
   ]
  },
  {
   "cell_type": "code",
   "execution_count": 40,
   "metadata": {},
   "outputs": [
    {
     "data": {
      "text/plain": [
       "-0.08544486315305277"
      ]
     },
     "execution_count": 40,
     "metadata": {},
     "output_type": "execute_result"
    }
   ],
   "source": [
    "obs = (\n",
    "    results.groupby('is_democratic')\n",
    "    .apply(lambda x: metrics.accuracy_score(x['party'], x['prediction']))\n",
    "    .diff().iloc[-1]\n",
    ")\n",
    "obs"
   ]
  },
  {
   "cell_type": "code",
   "execution_count": 41,
   "metadata": {},
   "outputs": [],
   "source": [
    "diff_scores = []\n",
    "for _ in range(1000):\n",
    "    s = (\n",
    "        results[['is_democratic', 'prediction', 'party']]\n",
    "        .assign(is_democratic=results.is_democratic.sample(frac=1.0, replace=False).reset_index(drop=True))\n",
    "        .groupby('is_democratic')\n",
    "        .apply(lambda x: metrics.accuracy_score(x['party'], x['prediction']))\n",
    "        .diff()\n",
    "        .iloc[-1]\n",
    "    )\n",
    "    diff_scores.append(s)"
   ]
  },
  {
   "cell_type": "code",
   "execution_count": 42,
   "metadata": {},
   "outputs": [
    {
     "data": {
      "text/plain": [
       "0.002"
      ]
     },
     "execution_count": 42,
     "metadata": {},
     "output_type": "execute_result"
    }
   ],
   "source": [
    "# p-value\n",
    "(diff_scores <= obs).mean()"
   ]
  },
  {
   "cell_type": "code",
   "execution_count": 43,
   "metadata": {},
   "outputs": [
    {
     "data": {
      "text/plain": [
       "<matplotlib.lines.Line2D at 0x7facf01fb910>"
      ]
     },
     "execution_count": 43,
     "metadata": {},
     "output_type": "execute_result"
    },
    {
     "data": {
      "image/png": "[encoded data removed]",
      "text/plain": [
       "<Figure size 720x360 with 1 Axes>"
      ]
     },
     "metadata": {
      "image/png": {
       "height": 318,
       "width": 618
      },
      "needs_background": "light"
     },
     "output_type": "display_data"
    }
   ],
   "source": [
    "plt.figure(figsize=(10, 5))\n",
    "pd.Series(diff_scores).plot(kind='hist', ec='w', density=True, bins=15, title='Difference in Accuracy')\n",
    "plt.axvline(x=obs, color='red', label='observed difference in accuracy')"
   ]
  }
 ],
 "metadata": {
  "kernelspec": {
   "display_name": "Python 3 (ipykernel)",
   "language": "python",
   "name": "python3"
  },
  "language_info": {
   "codemirror_mode": {
    "name": "ipython",
    "version": 3
   },
   "file_extension": ".py",
   "mimetype": "text/x-python",
   "name": "python",
   "nbconvert_exporter": "python",
   "pygments_lexer": "ipython3",
   "version": "3.10.2"
  }
 },
 "nbformat": 4,
 "nbformat_minor": 2
}

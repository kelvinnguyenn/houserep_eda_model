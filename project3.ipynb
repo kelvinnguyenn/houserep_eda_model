{
 "cells": [
  {
   "cell_type": "code",
   "execution_count": 1,
   "id": "f2f3006c",
   "metadata": {},
   "outputs": [],
   "source": [
    "import matplotlib.pyplot as plt\n",
    "import numpy as np\n",
    "import os\n",
    "import pandas as pd\n",
    "import seaborn as sns"
   ]
  },
  {
   "cell_type": "code",
   "execution_count": 2,
   "id": "3a385ea7",
   "metadata": {},
   "outputs": [
    {
     "data": {
      "text/html": [
       "<div>\n",
       "<style scoped>\n",
       "    .dataframe tbody tr th:only-of-type {\n",
       "        vertical-align: middle;\n",
       "    }\n",
       "\n",
       "    .dataframe tbody tr th {\n",
       "        vertical-align: top;\n",
       "    }\n",
       "\n",
       "    .dataframe thead th {\n",
       "        text-align: right;\n",
       "    }\n",
       "</style>\n",
       "<table border=\"1\" class=\"dataframe\">\n",
       "  <thead>\n",
       "    <tr style=\"text-align: right;\">\n",
       "      <th></th>\n",
       "      <th>name_id</th>\n",
       "      <th>name</th>\n",
       "      <th>state</th>\n",
       "      <th>url</th>\n",
       "      <th>chamber</th>\n",
       "      <th>current_party</th>\n",
       "      <th>committee_assignments</th>\n",
       "    </tr>\n",
       "  </thead>\n",
       "  <tbody>\n",
       "    <tr>\n",
       "      <th>0</th>\n",
       "      <td>A000374</td>\n",
       "      <td>ralph-abraham</td>\n",
       "      <td>Louisiana</td>\n",
       "      <td>https://www.congress.gov/member/ralph-abraham/...</td>\n",
       "      <td>House</td>\n",
       "      <td>Republican</td>\n",
       "      <td>['Agriculture', 'Armed Services']</td>\n",
       "    </tr>\n",
       "    <tr>\n",
       "      <th>1</th>\n",
       "      <td>A000370</td>\n",
       "      <td>alma-adams</td>\n",
       "      <td>North Carolina</td>\n",
       "      <td>https://www.congress.gov/member/alma-adams/A00...</td>\n",
       "      <td>House</td>\n",
       "      <td>Democratic</td>\n",
       "      <td>['Agriculture', 'Education and Labor', 'Financ...</td>\n",
       "    </tr>\n",
       "    <tr>\n",
       "      <th>2</th>\n",
       "      <td>A000055</td>\n",
       "      <td>robert-aderholt</td>\n",
       "      <td>Alabama</td>\n",
       "      <td>https://www.congress.gov/member/robert-aderhol...</td>\n",
       "      <td>House</td>\n",
       "      <td>Republican</td>\n",
       "      <td>['Appropriations']</td>\n",
       "    </tr>\n",
       "    <tr>\n",
       "      <th>3</th>\n",
       "      <td>A000371</td>\n",
       "      <td>pete-aguilar</td>\n",
       "      <td>California</td>\n",
       "      <td>https://www.congress.gov/member/pete-aguilar/A...</td>\n",
       "      <td>House</td>\n",
       "      <td>Democratic</td>\n",
       "      <td>['Appropriations', 'House Administration']</td>\n",
       "    </tr>\n",
       "    <tr>\n",
       "      <th>4</th>\n",
       "      <td>A000372</td>\n",
       "      <td>rick-allen</td>\n",
       "      <td>Georgia</td>\n",
       "      <td>https://www.congress.gov/member/rick-allen/A00...</td>\n",
       "      <td>House</td>\n",
       "      <td>Republican</td>\n",
       "      <td>['Agriculture', 'Education and Labor']</td>\n",
       "    </tr>\n",
       "  </tbody>\n",
       "</table>\n",
       "</div>"
      ],
      "text/plain": [
       "   name_id             name           state  \\\n",
       "0  A000374    ralph-abraham       Louisiana   \n",
       "1  A000370       alma-adams  North Carolina   \n",
       "2  A000055  robert-aderholt         Alabama   \n",
       "3  A000371     pete-aguilar      California   \n",
       "4  A000372       rick-allen         Georgia   \n",
       "\n",
       "                                                 url chamber current_party  \\\n",
       "0  https://www.congress.gov/member/ralph-abraham/...   House    Republican   \n",
       "1  https://www.congress.gov/member/alma-adams/A00...   House    Democratic   \n",
       "2  https://www.congress.gov/member/robert-aderhol...   House    Republican   \n",
       "3  https://www.congress.gov/member/pete-aguilar/A...   House    Democratic   \n",
       "4  https://www.congress.gov/member/rick-allen/A00...   House    Republican   \n",
       "\n",
       "                               committee_assignments  \n",
       "0                  ['Agriculture', 'Armed Services']  \n",
       "1  ['Agriculture', 'Education and Labor', 'Financ...  \n",
       "2                                 ['Appropriations']  \n",
       "3         ['Appropriations', 'House Administration']  \n",
       "4             ['Agriculture', 'Education and Labor']  "
      ]
     },
     "execution_count": 2,
     "metadata": {},
     "output_type": "execute_result"
    }
   ],
   "source": [
    "stocks_fp = os.path.join('data', 'all_transactions.csv')\n",
    "stocks = pd.read_csv(stocks_fp)\n",
    "stocks.head()\n",
    "\n",
    "reps_party_117_fp = os.path.join('data', 'house_members_117.csv')\n",
    "reps_party117 = pd.read_csv(reps_party_117_fp)\n",
    "reps_party117.head()\n",
    "\n",
    "reps_party_116_fp = os.path.join('data', 'house_members_116.csv')\n",
    "reps_party116 = pd.read_csv(reps_party_116_fp)\n",
    "reps_party116.head()"
   ]
  },
  {
   "cell_type": "code",
   "execution_count": 3,
   "id": "e5f58373",
   "metadata": {},
   "outputs": [
    {
     "data": {
      "text/html": [
       "<div>\n",
       "<style scoped>\n",
       "    .dataframe tbody tr th:only-of-type {\n",
       "        vertical-align: middle;\n",
       "    }\n",
       "\n",
       "    .dataframe tbody tr th {\n",
       "        vertical-align: top;\n",
       "    }\n",
       "\n",
       "    .dataframe thead th {\n",
       "        text-align: right;\n",
       "    }\n",
       "</style>\n",
       "<table border=\"1\" class=\"dataframe\">\n",
       "  <thead>\n",
       "    <tr style=\"text-align: right;\">\n",
       "      <th></th>\n",
       "      <th>ticker</th>\n",
       "      <th>disclosure_year</th>\n",
       "      <th>disclosure_date</th>\n",
       "      <th>transaction_date</th>\n",
       "      <th>owner</th>\n",
       "      <th>asset_description</th>\n",
       "      <th>type</th>\n",
       "      <th>amount</th>\n",
       "      <th>representative</th>\n",
       "      <th>district</th>\n",
       "      <th>ptr_link</th>\n",
       "      <th>cap_gains_over_200_usd</th>\n",
       "      <th>representative_cleaned</th>\n",
       "    </tr>\n",
       "  </thead>\n",
       "  <tbody>\n",
       "    <tr>\n",
       "      <th>0</th>\n",
       "      <td>BP</td>\n",
       "      <td>2021</td>\n",
       "      <td>10/04/2021</td>\n",
       "      <td>2021-09-27</td>\n",
       "      <td>joint</td>\n",
       "      <td>BP plc</td>\n",
       "      <td>purchase</td>\n",
       "      <td>$1,001 - $15,000</td>\n",
       "      <td>Hon. Virginia Foxx</td>\n",
       "      <td>NC05</td>\n",
       "      <td>https://disclosures-clerk.house.gov/public_dis...</td>\n",
       "      <td>False</td>\n",
       "      <td>virginia foxx</td>\n",
       "    </tr>\n",
       "    <tr>\n",
       "      <th>1</th>\n",
       "      <td>XOM</td>\n",
       "      <td>2021</td>\n",
       "      <td>10/04/2021</td>\n",
       "      <td>2021-09-13</td>\n",
       "      <td>joint</td>\n",
       "      <td>Exxon Mobil Corporation</td>\n",
       "      <td>purchase</td>\n",
       "      <td>$1,001 - $15,000</td>\n",
       "      <td>Hon. Virginia Foxx</td>\n",
       "      <td>NC05</td>\n",
       "      <td>https://disclosures-clerk.house.gov/public_dis...</td>\n",
       "      <td>False</td>\n",
       "      <td>virginia foxx</td>\n",
       "    </tr>\n",
       "    <tr>\n",
       "      <th>2</th>\n",
       "      <td>ILPT</td>\n",
       "      <td>2021</td>\n",
       "      <td>10/04/2021</td>\n",
       "      <td>2021-09-10</td>\n",
       "      <td>joint</td>\n",
       "      <td>Industrial Logistics Properties Trust - Common...</td>\n",
       "      <td>purchase</td>\n",
       "      <td>$15,001 - $50,000</td>\n",
       "      <td>Hon. Virginia Foxx</td>\n",
       "      <td>NC05</td>\n",
       "      <td>https://disclosures-clerk.house.gov/public_dis...</td>\n",
       "      <td>False</td>\n",
       "      <td>virginia foxx</td>\n",
       "    </tr>\n",
       "    <tr>\n",
       "      <th>3</th>\n",
       "      <td>PM</td>\n",
       "      <td>2021</td>\n",
       "      <td>10/04/2021</td>\n",
       "      <td>2021-09-28</td>\n",
       "      <td>joint</td>\n",
       "      <td>Phillip Morris International Inc</td>\n",
       "      <td>purchase</td>\n",
       "      <td>$15,001 - $50,000</td>\n",
       "      <td>Hon. Virginia Foxx</td>\n",
       "      <td>NC05</td>\n",
       "      <td>https://disclosures-clerk.house.gov/public_dis...</td>\n",
       "      <td>False</td>\n",
       "      <td>virginia foxx</td>\n",
       "    </tr>\n",
       "    <tr>\n",
       "      <th>4</th>\n",
       "      <td>BLK</td>\n",
       "      <td>2021</td>\n",
       "      <td>10/04/2021</td>\n",
       "      <td>2021-09-17</td>\n",
       "      <td>self</td>\n",
       "      <td>BlackRock Inc</td>\n",
       "      <td>sale_partial</td>\n",
       "      <td>$1,001 - $15,000</td>\n",
       "      <td>Hon. Alan S. Lowenthal</td>\n",
       "      <td>CA47</td>\n",
       "      <td>https://disclosures-clerk.house.gov/public_dis...</td>\n",
       "      <td>False</td>\n",
       "      <td>alan lowenthal</td>\n",
       "    </tr>\n",
       "  </tbody>\n",
       "</table>\n",
       "</div>"
      ],
      "text/plain": [
       "  ticker  disclosure_year disclosure_date transaction_date  owner  \\\n",
       "0     BP             2021      10/04/2021       2021-09-27  joint   \n",
       "1    XOM             2021      10/04/2021       2021-09-13  joint   \n",
       "2   ILPT             2021      10/04/2021       2021-09-10  joint   \n",
       "3     PM             2021      10/04/2021       2021-09-28  joint   \n",
       "4    BLK             2021      10/04/2021       2021-09-17   self   \n",
       "\n",
       "                                   asset_description          type  \\\n",
       "0                                             BP plc      purchase   \n",
       "1                            Exxon Mobil Corporation      purchase   \n",
       "2  Industrial Logistics Properties Trust - Common...      purchase   \n",
       "3                   Phillip Morris International Inc      purchase   \n",
       "4                                      BlackRock Inc  sale_partial   \n",
       "\n",
       "              amount          representative district  \\\n",
       "0   $1,001 - $15,000      Hon. Virginia Foxx     NC05   \n",
       "1   $1,001 - $15,000      Hon. Virginia Foxx     NC05   \n",
       "2  $15,001 - $50,000      Hon. Virginia Foxx     NC05   \n",
       "3  $15,001 - $50,000      Hon. Virginia Foxx     NC05   \n",
       "4   $1,001 - $15,000  Hon. Alan S. Lowenthal     CA47   \n",
       "\n",
       "                                            ptr_link  cap_gains_over_200_usd  \\\n",
       "0  https://disclosures-clerk.house.gov/public_dis...                   False   \n",
       "1  https://disclosures-clerk.house.gov/public_dis...                   False   \n",
       "2  https://disclosures-clerk.house.gov/public_dis...                   False   \n",
       "3  https://disclosures-clerk.house.gov/public_dis...                   False   \n",
       "4  https://disclosures-clerk.house.gov/public_dis...                   False   \n",
       "\n",
       "  representative_cleaned  \n",
       "0          virginia foxx  \n",
       "1          virginia foxx  \n",
       "2          virginia foxx  \n",
       "3          virginia foxx  \n",
       "4         alan lowenthal  "
      ]
     },
     "execution_count": 3,
     "metadata": {},
     "output_type": "execute_result"
    }
   ],
   "source": [
    "# stocks\n",
    "# clean null vals\n",
    "stocks_cleaned = stocks.replace({'--': np.NaN})\n",
    "\n",
    "# clean representative\n",
    "reps_split = stocks_cleaned['representative'].str.lower().str.split()\n",
    "stocks_cleaned['representative_cleaned'] = reps_split.str[1] + ' ' + reps_split.str[-1]\n",
    "stocks_cleaned.head()\n",
    "\n",
    "# Fill in missing values for asset_description\n",
    "fill_asset_descs = {'URGO': 'Urban Gro Inc', 'CELO': 'Celulosa Argentina Sociedad Anonima', 'BLL': 'Ball Corporation'}\n",
    "stocks_cleaned = stocks_cleaned.set_index('ticker')\n",
    "stocks_cleaned['asset_description'] = stocks_cleaned['asset_description'].fillna(value = fill_asset_descs)\n",
    "stocks_cleaned = stocks_cleaned.reset_index()\n",
    "stocks_cleaned.head()"
   ]
  },
  {
   "cell_type": "code",
   "execution_count": 4,
   "id": "b3186efc",
   "metadata": {},
   "outputs": [
    {
     "name": "stderr",
     "output_type": "stream",
     "text": [
      "C:\\Users\\kelvi\\anaconda3\\envs\\dsc80\\lib\\site-packages\\pandas\\core\\indexing.py:1951: SettingWithCopyWarning: \n",
      "A value is trying to be set on a copy of a slice from a DataFrame.\n",
      "Try using .loc[row_indexer,col_indexer] = value instead\n",
      "\n",
      "See the caveats in the documentation: https://pandas.pydata.org/pandas-docs/stable/user_guide/indexing.html#returning-a-view-versus-a-copy\n",
      "  self.obj[selected_item_labels] = value\n"
     ]
    },
    {
     "data": {
      "text/html": [
       "<div>\n",
       "<style scoped>\n",
       "    .dataframe tbody tr th:only-of-type {\n",
       "        vertical-align: middle;\n",
       "    }\n",
       "\n",
       "    .dataframe tbody tr th {\n",
       "        vertical-align: top;\n",
       "    }\n",
       "\n",
       "    .dataframe thead th {\n",
       "        text-align: right;\n",
       "    }\n",
       "</style>\n",
       "<table border=\"1\" class=\"dataframe\">\n",
       "  <thead>\n",
       "    <tr style=\"text-align: right;\">\n",
       "      <th></th>\n",
       "      <th>Party</th>\n",
       "    </tr>\n",
       "    <tr>\n",
       "      <th>Member</th>\n",
       "      <th></th>\n",
       "    </tr>\n",
       "  </thead>\n",
       "  <tbody>\n",
       "    <tr>\n",
       "      <th>jerry carl</th>\n",
       "      <td>Republican</td>\n",
       "    </tr>\n",
       "    <tr>\n",
       "      <th>barry moore</th>\n",
       "      <td>Republican</td>\n",
       "    </tr>\n",
       "    <tr>\n",
       "      <th>mike rogers</th>\n",
       "      <td>Republican</td>\n",
       "    </tr>\n",
       "    <tr>\n",
       "      <th>robert aderholt</th>\n",
       "      <td>Republican</td>\n",
       "    </tr>\n",
       "    <tr>\n",
       "      <th>mo brooks</th>\n",
       "      <td>Republican</td>\n",
       "    </tr>\n",
       "    <tr>\n",
       "      <th>...</th>\n",
       "      <td>...</td>\n",
       "    </tr>\n",
       "    <tr>\n",
       "      <th>scott fitzgerald</th>\n",
       "      <td>Republican</td>\n",
       "    </tr>\n",
       "    <tr>\n",
       "      <th>glenn grothman</th>\n",
       "      <td>Republican</td>\n",
       "    </tr>\n",
       "    <tr>\n",
       "      <th>tom tiffany</th>\n",
       "      <td>Republican</td>\n",
       "    </tr>\n",
       "    <tr>\n",
       "      <th>mike gallagher</th>\n",
       "      <td>Republican</td>\n",
       "    </tr>\n",
       "    <tr>\n",
       "      <th>liz cheney</th>\n",
       "      <td>Republican</td>\n",
       "    </tr>\n",
       "  </tbody>\n",
       "</table>\n",
       "<p>435 rows × 1 columns</p>\n",
       "</div>"
      ],
      "text/plain": [
       "                       Party\n",
       "Member                      \n",
       "jerry carl        Republican\n",
       "barry moore       Republican\n",
       "mike rogers       Republican\n",
       "robert aderholt   Republican\n",
       "mo brooks         Republican\n",
       "...                      ...\n",
       "scott fitzgerald  Republican\n",
       "glenn grothman    Republican\n",
       "tom tiffany       Republican\n",
       "mike gallagher    Republican\n",
       "liz cheney        Republican\n",
       "\n",
       "[435 rows x 1 columns]"
      ]
     },
     "execution_count": 4,
     "metadata": {},
     "output_type": "execute_result"
    }
   ],
   "source": [
    "# clean reps_party117\n",
    "reps_party_117_cleaned = reps_party117[['Member', 'Party.1']]\n",
    "reps_117_split = reps_party_117_cleaned['Member'].str.lower().str.split()\n",
    "reps_party_117_cleaned.loc[:, 'Member'] = reps_117_split.str[0] + ' ' + reps_117_split.str[-1]\n",
    "reps_party_117_cleaned = reps_party_117_cleaned.rename(columns={'Party.1': 'Party'}).set_index('Member')\n",
    "reps_party_117_cleaned"
   ]
  },
  {
   "cell_type": "code",
   "execution_count": 5,
   "id": "d07690b1",
   "metadata": {},
   "outputs": [
    {
     "name": "stderr",
     "output_type": "stream",
     "text": [
      "C:\\Users\\kelvi\\anaconda3\\envs\\dsc80\\lib\\site-packages\\pandas\\core\\indexing.py:1951: SettingWithCopyWarning: \n",
      "A value is trying to be set on a copy of a slice from a DataFrame.\n",
      "Try using .loc[row_indexer,col_indexer] = value instead\n",
      "\n",
      "See the caveats in the documentation: https://pandas.pydata.org/pandas-docs/stable/user_guide/indexing.html#returning-a-view-versus-a-copy\n",
      "  self.obj[selected_item_labels] = value\n"
     ]
    },
    {
     "data": {
      "text/html": [
       "<div>\n",
       "<style scoped>\n",
       "    .dataframe tbody tr th:only-of-type {\n",
       "        vertical-align: middle;\n",
       "    }\n",
       "\n",
       "    .dataframe tbody tr th {\n",
       "        vertical-align: top;\n",
       "    }\n",
       "\n",
       "    .dataframe thead th {\n",
       "        text-align: right;\n",
       "    }\n",
       "</style>\n",
       "<table border=\"1\" class=\"dataframe\">\n",
       "  <thead>\n",
       "    <tr style=\"text-align: right;\">\n",
       "      <th></th>\n",
       "      <th>current_party</th>\n",
       "    </tr>\n",
       "    <tr>\n",
       "      <th>name</th>\n",
       "      <th></th>\n",
       "    </tr>\n",
       "  </thead>\n",
       "  <tbody>\n",
       "    <tr>\n",
       "      <th>ralph abraham</th>\n",
       "      <td>Republican</td>\n",
       "    </tr>\n",
       "    <tr>\n",
       "      <th>alma adams</th>\n",
       "      <td>Democratic</td>\n",
       "    </tr>\n",
       "    <tr>\n",
       "      <th>robert aderholt</th>\n",
       "      <td>Republican</td>\n",
       "    </tr>\n",
       "    <tr>\n",
       "      <th>pete aguilar</th>\n",
       "      <td>Democratic</td>\n",
       "    </tr>\n",
       "    <tr>\n",
       "      <th>rick allen</th>\n",
       "      <td>Republican</td>\n",
       "    </tr>\n",
       "  </tbody>\n",
       "</table>\n",
       "</div>"
      ],
      "text/plain": [
       "                current_party\n",
       "name                         \n",
       "ralph abraham      Republican\n",
       "alma adams         Democratic\n",
       "robert aderholt    Republican\n",
       "pete aguilar       Democratic\n",
       "rick allen         Republican"
      ]
     },
     "execution_count": 5,
     "metadata": {},
     "output_type": "execute_result"
    }
   ],
   "source": [
    "# clean reps_party116\n",
    "reps_party_116_cleaned = reps_party116[['name', 'current_party']]\n",
    "reps_party_116_cleaned.loc[:, 'name'] = reps_party_116_cleaned['name'].str.replace('-', ' ').str.lower()\n",
    "reps_party_116_cleaned = reps_party_116_cleaned.set_index('name')\n",
    "reps_party_116_cleaned.head()"
   ]
  },
  {
   "cell_type": "code",
   "execution_count": 6,
   "id": "766a8e34",
   "metadata": {},
   "outputs": [
    {
     "data": {
      "text/html": [
       "<div>\n",
       "<style scoped>\n",
       "    .dataframe tbody tr th:only-of-type {\n",
       "        vertical-align: middle;\n",
       "    }\n",
       "\n",
       "    .dataframe tbody tr th {\n",
       "        vertical-align: top;\n",
       "    }\n",
       "\n",
       "    .dataframe thead th {\n",
       "        text-align: right;\n",
       "    }\n",
       "</style>\n",
       "<table border=\"1\" class=\"dataframe\">\n",
       "  <thead>\n",
       "    <tr style=\"text-align: right;\">\n",
       "      <th></th>\n",
       "      <th>index</th>\n",
       "      <th>ticker</th>\n",
       "      <th>disclosure_year</th>\n",
       "      <th>disclosure_date</th>\n",
       "      <th>transaction_date</th>\n",
       "      <th>owner</th>\n",
       "      <th>asset_description</th>\n",
       "      <th>type</th>\n",
       "      <th>amount</th>\n",
       "      <th>representative</th>\n",
       "      <th>district</th>\n",
       "      <th>ptr_link</th>\n",
       "      <th>cap_gains_over_200_usd</th>\n",
       "      <th>current_party</th>\n",
       "    </tr>\n",
       "  </thead>\n",
       "  <tbody>\n",
       "    <tr>\n",
       "      <th>0</th>\n",
       "      <td>abigail spanberger</td>\n",
       "      <td>LHX</td>\n",
       "      <td>2021</td>\n",
       "      <td>06/03/2021</td>\n",
       "      <td>2021-06-01</td>\n",
       "      <td>self</td>\n",
       "      <td>L3Harris Special Stock Grant</td>\n",
       "      <td>purchase</td>\n",
       "      <td>$1,001 - $15,000</td>\n",
       "      <td>Hon. Abigail Spanberger</td>\n",
       "      <td>VA07</td>\n",
       "      <td>https://disclosures-clerk.house.gov/public_dis...</td>\n",
       "      <td>False</td>\n",
       "      <td>Democratic</td>\n",
       "    </tr>\n",
       "    <tr>\n",
       "      <th>1</th>\n",
       "      <td>abigail spanberger</td>\n",
       "      <td>NaN</td>\n",
       "      <td>2020</td>\n",
       "      <td>03/20/2020</td>\n",
       "      <td>2020-02-28</td>\n",
       "      <td>self</td>\n",
       "      <td>L3Harris Special Stock Grant</td>\n",
       "      <td>purchase</td>\n",
       "      <td>$1,001 - $15,000</td>\n",
       "      <td>Hon. Abigail Spanberger</td>\n",
       "      <td>VA07</td>\n",
       "      <td>https://disclosures-clerk.house.gov/public_dis...</td>\n",
       "      <td>False</td>\n",
       "      <td>Democratic</td>\n",
       "    </tr>\n",
       "    <tr>\n",
       "      <th>2</th>\n",
       "      <td>adam kinzinger</td>\n",
       "      <td>AAL</td>\n",
       "      <td>2020</td>\n",
       "      <td>07/21/2020</td>\n",
       "      <td>2020-06-09</td>\n",
       "      <td>NaN</td>\n",
       "      <td>American Airlines Group, Inc.</td>\n",
       "      <td>purchase</td>\n",
       "      <td>$1,001 - $15,000</td>\n",
       "      <td>Hon. Adam Kinzinger</td>\n",
       "      <td>IL16</td>\n",
       "      <td>https://disclosures-clerk.house.gov/public_dis...</td>\n",
       "      <td>False</td>\n",
       "      <td>Republican</td>\n",
       "    </tr>\n",
       "    <tr>\n",
       "      <th>3</th>\n",
       "      <td>adam kinzinger</td>\n",
       "      <td>AAL</td>\n",
       "      <td>2020</td>\n",
       "      <td>07/21/2020</td>\n",
       "      <td>2020-06-11</td>\n",
       "      <td>NaN</td>\n",
       "      <td>American Airlines Group, Inc.</td>\n",
       "      <td>purchase</td>\n",
       "      <td>$1,001 - $15,000</td>\n",
       "      <td>Hon. Adam Kinzinger</td>\n",
       "      <td>IL16</td>\n",
       "      <td>https://disclosures-clerk.house.gov/public_dis...</td>\n",
       "      <td>False</td>\n",
       "      <td>Republican</td>\n",
       "    </tr>\n",
       "    <tr>\n",
       "      <th>4</th>\n",
       "      <td>adam kinzinger</td>\n",
       "      <td>AAL</td>\n",
       "      <td>2020</td>\n",
       "      <td>07/21/2020</td>\n",
       "      <td>2020-06-25</td>\n",
       "      <td>NaN</td>\n",
       "      <td>American Airlines Group, Inc.</td>\n",
       "      <td>purchase</td>\n",
       "      <td>$1,001 - $15,000</td>\n",
       "      <td>Hon. Adam Kinzinger</td>\n",
       "      <td>IL16</td>\n",
       "      <td>https://disclosures-clerk.house.gov/public_dis...</td>\n",
       "      <td>False</td>\n",
       "      <td>Republican</td>\n",
       "    </tr>\n",
       "    <tr>\n",
       "      <th>...</th>\n",
       "      <td>...</td>\n",
       "      <td>...</td>\n",
       "      <td>...</td>\n",
       "      <td>...</td>\n",
       "      <td>...</td>\n",
       "      <td>...</td>\n",
       "      <td>...</td>\n",
       "      <td>...</td>\n",
       "      <td>...</td>\n",
       "      <td>...</td>\n",
       "      <td>...</td>\n",
       "      <td>...</td>\n",
       "      <td>...</td>\n",
       "      <td>...</td>\n",
       "    </tr>\n",
       "    <tr>\n",
       "      <th>14175</th>\n",
       "      <td>zoe lofgren</td>\n",
       "      <td>V</td>\n",
       "      <td>2021</td>\n",
       "      <td>10/07/2021</td>\n",
       "      <td>2021-09-02</td>\n",
       "      <td>self</td>\n",
       "      <td>Visa Inc</td>\n",
       "      <td>purchase</td>\n",
       "      <td>$1,001 - $15,000</td>\n",
       "      <td>Hon. Zoe Lofgren</td>\n",
       "      <td>CA19</td>\n",
       "      <td>https://disclosures-clerk.house.gov/public_dis...</td>\n",
       "      <td>False</td>\n",
       "      <td>Democratic</td>\n",
       "    </tr>\n",
       "    <tr>\n",
       "      <th>14176</th>\n",
       "      <td>zoe lofgren</td>\n",
       "      <td>WMT</td>\n",
       "      <td>2021</td>\n",
       "      <td>10/07/2021</td>\n",
       "      <td>2021-09-02</td>\n",
       "      <td>self</td>\n",
       "      <td>Walmart Inc</td>\n",
       "      <td>purchase</td>\n",
       "      <td>$1,001 - $15,000</td>\n",
       "      <td>Hon. Zoe Lofgren</td>\n",
       "      <td>CA19</td>\n",
       "      <td>https://disclosures-clerk.house.gov/public_dis...</td>\n",
       "      <td>False</td>\n",
       "      <td>Democratic</td>\n",
       "    </tr>\n",
       "    <tr>\n",
       "      <th>14177</th>\n",
       "      <td>zoe lofgren</td>\n",
       "      <td>DIS</td>\n",
       "      <td>2021</td>\n",
       "      <td>10/07/2021</td>\n",
       "      <td>2021-09-02</td>\n",
       "      <td>self</td>\n",
       "      <td>Walt Disney Company</td>\n",
       "      <td>purchase</td>\n",
       "      <td>$1,001 - $15,000</td>\n",
       "      <td>Hon. Zoe Lofgren</td>\n",
       "      <td>CA19</td>\n",
       "      <td>https://disclosures-clerk.house.gov/public_dis...</td>\n",
       "      <td>False</td>\n",
       "      <td>Democratic</td>\n",
       "    </tr>\n",
       "    <tr>\n",
       "      <th>14178</th>\n",
       "      <td>zoe lofgren</td>\n",
       "      <td>ZTS</td>\n",
       "      <td>2021</td>\n",
       "      <td>10/07/2021</td>\n",
       "      <td>2021-09-02</td>\n",
       "      <td>self</td>\n",
       "      <td>Zoetis Inc Class A</td>\n",
       "      <td>purchase</td>\n",
       "      <td>$1,001 - $15,000</td>\n",
       "      <td>Hon. Zoe Lofgren</td>\n",
       "      <td>CA19</td>\n",
       "      <td>https://disclosures-clerk.house.gov/public_dis...</td>\n",
       "      <td>False</td>\n",
       "      <td>Democratic</td>\n",
       "    </tr>\n",
       "    <tr>\n",
       "      <th>14179</th>\n",
       "      <td>zoe lofgren</td>\n",
       "      <td>GM</td>\n",
       "      <td>2022</td>\n",
       "      <td>01/07/2022</td>\n",
       "      <td>2021-12-14</td>\n",
       "      <td>self</td>\n",
       "      <td>General Motors Finl Co (Corporate Bond)</td>\n",
       "      <td>sale_full</td>\n",
       "      <td>$1,001 - $15,000</td>\n",
       "      <td>Hon. Zoe Lofgren</td>\n",
       "      <td>CA19</td>\n",
       "      <td>https://disclosures-clerk.house.gov/public_dis...</td>\n",
       "      <td>False</td>\n",
       "      <td>Democratic</td>\n",
       "    </tr>\n",
       "  </tbody>\n",
       "</table>\n",
       "<p>14180 rows × 14 columns</p>\n",
       "</div>"
      ],
      "text/plain": [
       "                    index ticker  disclosure_year disclosure_date  \\\n",
       "0      abigail spanberger    LHX             2021      06/03/2021   \n",
       "1      abigail spanberger    NaN             2020      03/20/2020   \n",
       "2          adam kinzinger    AAL             2020      07/21/2020   \n",
       "3          adam kinzinger    AAL             2020      07/21/2020   \n",
       "4          adam kinzinger    AAL             2020      07/21/2020   \n",
       "...                   ...    ...              ...             ...   \n",
       "14175         zoe lofgren      V             2021      10/07/2021   \n",
       "14176         zoe lofgren    WMT             2021      10/07/2021   \n",
       "14177         zoe lofgren    DIS             2021      10/07/2021   \n",
       "14178         zoe lofgren    ZTS             2021      10/07/2021   \n",
       "14179         zoe lofgren     GM             2022      01/07/2022   \n",
       "\n",
       "      transaction_date owner                        asset_description  \\\n",
       "0           2021-06-01  self             L3Harris Special Stock Grant   \n",
       "1           2020-02-28  self             L3Harris Special Stock Grant   \n",
       "2           2020-06-09   NaN            American Airlines Group, Inc.   \n",
       "3           2020-06-11   NaN            American Airlines Group, Inc.   \n",
       "4           2020-06-25   NaN            American Airlines Group, Inc.   \n",
       "...                ...   ...                                      ...   \n",
       "14175       2021-09-02  self                                 Visa Inc   \n",
       "14176       2021-09-02  self                              Walmart Inc   \n",
       "14177       2021-09-02  self                      Walt Disney Company   \n",
       "14178       2021-09-02  self                       Zoetis Inc Class A   \n",
       "14179       2021-12-14  self  General Motors Finl Co (Corporate Bond)   \n",
       "\n",
       "            type            amount           representative district  \\\n",
       "0       purchase  $1,001 - $15,000  Hon. Abigail Spanberger     VA07   \n",
       "1       purchase  $1,001 - $15,000  Hon. Abigail Spanberger     VA07   \n",
       "2       purchase  $1,001 - $15,000      Hon. Adam Kinzinger     IL16   \n",
       "3       purchase  $1,001 - $15,000      Hon. Adam Kinzinger     IL16   \n",
       "4       purchase  $1,001 - $15,000      Hon. Adam Kinzinger     IL16   \n",
       "...          ...               ...                      ...      ...   \n",
       "14175   purchase  $1,001 - $15,000         Hon. Zoe Lofgren     CA19   \n",
       "14176   purchase  $1,001 - $15,000         Hon. Zoe Lofgren     CA19   \n",
       "14177   purchase  $1,001 - $15,000         Hon. Zoe Lofgren     CA19   \n",
       "14178   purchase  $1,001 - $15,000         Hon. Zoe Lofgren     CA19   \n",
       "14179  sale_full  $1,001 - $15,000         Hon. Zoe Lofgren     CA19   \n",
       "\n",
       "                                                ptr_link  \\\n",
       "0      https://disclosures-clerk.house.gov/public_dis...   \n",
       "1      https://disclosures-clerk.house.gov/public_dis...   \n",
       "2      https://disclosures-clerk.house.gov/public_dis...   \n",
       "3      https://disclosures-clerk.house.gov/public_dis...   \n",
       "4      https://disclosures-clerk.house.gov/public_dis...   \n",
       "...                                                  ...   \n",
       "14175  https://disclosures-clerk.house.gov/public_dis...   \n",
       "14176  https://disclosures-clerk.house.gov/public_dis...   \n",
       "14177  https://disclosures-clerk.house.gov/public_dis...   \n",
       "14178  https://disclosures-clerk.house.gov/public_dis...   \n",
       "14179  https://disclosures-clerk.house.gov/public_dis...   \n",
       "\n",
       "       cap_gains_over_200_usd current_party  \n",
       "0                       False    Democratic  \n",
       "1                       False    Democratic  \n",
       "2                       False    Republican  \n",
       "3                       False    Republican  \n",
       "4                       False    Republican  \n",
       "...                       ...           ...  \n",
       "14175                   False    Democratic  \n",
       "14176                   False    Democratic  \n",
       "14177                   False    Democratic  \n",
       "14178                   False    Democratic  \n",
       "14179                   False    Democratic  \n",
       "\n",
       "[14180 rows x 14 columns]"
      ]
     },
     "execution_count": 6,
     "metadata": {},
     "output_type": "execute_result"
    }
   ],
   "source": [
    "# merge datasets\n",
    "merge_parties = reps_party_116_cleaned.merge(reps_party_117_cleaned, \n",
    "                                             how='outer', \n",
    "                                             left_index=True,\n",
    "                                             right_index=True).reset_index()\n",
    "merge_parties = (\n",
    "    merge_parties.bfill(axis=1)[['index', 'current_party']].set_index('index')\n",
    ")\n",
    "\n",
    "stocks_cleaned_test = stocks_cleaned.set_index('representative_cleaned')\n",
    "merged = stocks_cleaned_test.merge(merge_parties, how='left', left_index=True, right_index=True).reset_index()\n",
    "merged"
   ]
  },
  {
   "cell_type": "code",
   "execution_count": 6,
   "id": "05d8c3c9",
   "metadata": {},
   "outputs": [],
   "source": [
    "# 1 ashley arenholz -> ashley hinson (117) Repub\n",
    "# 2aston mceachin -> donald mceachin (117) Demo\n",
    "# 3christopher jacobs -> chris jacobs (117) Repub\n",
    "# 4daniel crenshaw -> dan crenshaw (116, 117) Repub\n",
    "# 5david cawthorn -> madison cawthorn (117) Repub\n",
    "# 6felix moore -> barry moore (117) Repub\n",
    "# 7james banks -> jim banks (116, 117) Repub \n",
    "# 8james costa -> jim costa (116, 117) Demo\n",
    "# 9james hagedorn -> jim hagedorn (116) Repub\n",
    "# 10james hill -> j-hill (116) Repub\n",
    "# 11k. conaway -> k-conaway (116) Repub\n",
    "# 12kenneth buck -> ken buck (116, 117) Repub\n",
    "# 13mario diaz-balart -> mario-diaz-balart (116), Mario Díaz-Balart (117) Repub\n",
    "# 14michael gallagher -> mike gallagher (116, 117) Repub\n",
    "# 15michael garcia -> mike garcia (117) Repub\n",
    "# 16neal facs -> neal dunn (116, 117) Repub\n",
    "# 17nicholas taylor -> van taylor (116, 117) Repub\n",
    "# 18patrick fallon -> pat fallon (117) Repub\n",
    "# 19richard allen -> rick allen (116, 117) Repub\n",
    "# 20rohit khanna -> ro khanna (116, 117) Demo\n",
    "# 21s. krishnamoorthi -> raja krishnamoorthi (116, 117) Demo\n",
    "# 22w. steube -> w-steube (116), greg steube (117) Repub\n",
    "# 23wm. clay -> wm-clay (116) Demo"
   ]
  },
  {
   "cell_type": "code",
   "execution_count": 7,
   "id": "83fefbb4",
   "metadata": {},
   "outputs": [
    {
     "ename": "NameError",
     "evalue": "name 'merged' is not defined",
     "output_type": "error",
     "traceback": [
      "\u001b[1;31m---------------------------------------------------------------------------\u001b[0m",
      "\u001b[1;31mNameError\u001b[0m                                 Traceback (most recent call last)",
      "Input \u001b[1;32mIn [7]\u001b[0m, in \u001b[0;36m<cell line: 1>\u001b[1;34m()\u001b[0m\n\u001b[1;32m----> 1\u001b[0m keys \u001b[38;5;241m=\u001b[39m \u001b[43mmerged\u001b[49m[merged[\u001b[38;5;124m'\u001b[39m\u001b[38;5;124mcurrent_party\u001b[39m\u001b[38;5;124m'\u001b[39m]\u001b[38;5;241m.\u001b[39misna()][\u001b[38;5;124m'\u001b[39m\u001b[38;5;124mindex\u001b[39m\u001b[38;5;124m'\u001b[39m]\u001b[38;5;241m.\u001b[39munique()\n\u001b[0;32m      2\u001b[0m parties \u001b[38;5;241m=\u001b[39m [\u001b[38;5;124m'\u001b[39m\u001b[38;5;124mr\u001b[39m\u001b[38;5;124m'\u001b[39m,\u001b[38;5;124m'\u001b[39m\u001b[38;5;124md\u001b[39m\u001b[38;5;124m'\u001b[39m,\u001b[38;5;124m'\u001b[39m\u001b[38;5;124mr\u001b[39m\u001b[38;5;124m'\u001b[39m,\u001b[38;5;124m'\u001b[39m\u001b[38;5;124mr\u001b[39m\u001b[38;5;124m'\u001b[39m,\u001b[38;5;124m'\u001b[39m\u001b[38;5;124mr\u001b[39m\u001b[38;5;124m'\u001b[39m,\u001b[38;5;124m'\u001b[39m\u001b[38;5;124mr\u001b[39m\u001b[38;5;124m'\u001b[39m,\u001b[38;5;124m'\u001b[39m\u001b[38;5;124mr\u001b[39m\u001b[38;5;124m'\u001b[39m,\u001b[38;5;124m'\u001b[39m\u001b[38;5;124md\u001b[39m\u001b[38;5;124m'\u001b[39m,\u001b[38;5;124m'\u001b[39m\u001b[38;5;124mr\u001b[39m\u001b[38;5;124m'\u001b[39m,\u001b[38;5;124m'\u001b[39m\u001b[38;5;124mr\u001b[39m\u001b[38;5;124m'\u001b[39m,\u001b[38;5;124m'\u001b[39m\u001b[38;5;124mr\u001b[39m\u001b[38;5;124m'\u001b[39m,\u001b[38;5;124m'\u001b[39m\u001b[38;5;124mr\u001b[39m\u001b[38;5;124m'\u001b[39m,\u001b[38;5;124m'\u001b[39m\u001b[38;5;124mr\u001b[39m\u001b[38;5;124m'\u001b[39m,\u001b[38;5;124m'\u001b[39m\u001b[38;5;124mr\u001b[39m\u001b[38;5;124m'\u001b[39m,\u001b[38;5;124m'\u001b[39m\u001b[38;5;124mr\u001b[39m\u001b[38;5;124m'\u001b[39m,\u001b[38;5;124m'\u001b[39m\u001b[38;5;124mr\u001b[39m\u001b[38;5;124m'\u001b[39m,\u001b[38;5;124m'\u001b[39m\u001b[38;5;124mr\u001b[39m\u001b[38;5;124m'\u001b[39m,\u001b[38;5;124m'\u001b[39m\u001b[38;5;124mr\u001b[39m\u001b[38;5;124m'\u001b[39m,\u001b[38;5;124m'\u001b[39m\u001b[38;5;124mr\u001b[39m\u001b[38;5;124m'\u001b[39m,\u001b[38;5;124m'\u001b[39m\u001b[38;5;124md\u001b[39m\u001b[38;5;124m'\u001b[39m,\u001b[38;5;124m'\u001b[39m\u001b[38;5;124md\u001b[39m\u001b[38;5;124m'\u001b[39m,\u001b[38;5;124m'\u001b[39m\u001b[38;5;124mr\u001b[39m\u001b[38;5;124m'\u001b[39m,\u001b[38;5;124m'\u001b[39m\u001b[38;5;124md\u001b[39m\u001b[38;5;124m'\u001b[39m]\n",
      "\u001b[1;31mNameError\u001b[0m: name 'merged' is not defined"
     ]
    }
   ],
   "source": [
    "keys = merged[merged['current_party'].isna()]['index'].unique()\n",
    "parties = ['r','d','r','r','r','r','r','d','r','r','r','r','r','r','r','r','r','r','r','d','d','r','d']\n",
    "#fill_vals = dict(zip(keys, parties)"
   ]
  },
  {
   "cell_type": "code",
   "execution_count": 7,
   "id": "821397d9",
   "metadata": {},
   "outputs": [
    {
     "data": {
      "text/html": [
       "<div>\n",
       "<style scoped>\n",
       "    .dataframe tbody tr th:only-of-type {\n",
       "        vertical-align: middle;\n",
       "    }\n",
       "\n",
       "    .dataframe tbody tr th {\n",
       "        vertical-align: top;\n",
       "    }\n",
       "\n",
       "    .dataframe thead th {\n",
       "        text-align: right;\n",
       "    }\n",
       "</style>\n",
       "<table border=\"1\" class=\"dataframe\">\n",
       "  <thead>\n",
       "    <tr style=\"text-align: right;\">\n",
       "      <th></th>\n",
       "      <th>index</th>\n",
       "      <th>ticker</th>\n",
       "      <th>disclosure_year</th>\n",
       "      <th>disclosure_date</th>\n",
       "      <th>transaction_date</th>\n",
       "      <th>owner</th>\n",
       "      <th>asset_description</th>\n",
       "      <th>type</th>\n",
       "      <th>amount</th>\n",
       "      <th>representative</th>\n",
       "      <th>district</th>\n",
       "      <th>ptr_link</th>\n",
       "      <th>cap_gains_over_200_usd</th>\n",
       "      <th>current_party</th>\n",
       "      <th>is_democratic</th>\n",
       "      <th>amount_cleaned</th>\n",
       "    </tr>\n",
       "  </thead>\n",
       "  <tbody>\n",
       "    <tr>\n",
       "      <th>0</th>\n",
       "      <td>abigail spanberger</td>\n",
       "      <td>LHX</td>\n",
       "      <td>2021</td>\n",
       "      <td>06/03/2021</td>\n",
       "      <td>2021-06-01</td>\n",
       "      <td>self</td>\n",
       "      <td>L3Harris Special Stock Grant</td>\n",
       "      <td>purchase</td>\n",
       "      <td>$1,001 - $15,000</td>\n",
       "      <td>Hon. Abigail Spanberger</td>\n",
       "      <td>VA07</td>\n",
       "      <td>https://disclosures-clerk.house.gov/public_dis...</td>\n",
       "      <td>False</td>\n",
       "      <td>Democratic</td>\n",
       "      <td>True</td>\n",
       "      <td>$1,001 - $15,000</td>\n",
       "    </tr>\n",
       "    <tr>\n",
       "      <th>1</th>\n",
       "      <td>abigail spanberger</td>\n",
       "      <td>NaN</td>\n",
       "      <td>2020</td>\n",
       "      <td>03/20/2020</td>\n",
       "      <td>2020-02-28</td>\n",
       "      <td>self</td>\n",
       "      <td>L3Harris Special Stock Grant</td>\n",
       "      <td>purchase</td>\n",
       "      <td>$1,001 - $15,000</td>\n",
       "      <td>Hon. Abigail Spanberger</td>\n",
       "      <td>VA07</td>\n",
       "      <td>https://disclosures-clerk.house.gov/public_dis...</td>\n",
       "      <td>False</td>\n",
       "      <td>Democratic</td>\n",
       "      <td>True</td>\n",
       "      <td>$1,001 - $15,000</td>\n",
       "    </tr>\n",
       "    <tr>\n",
       "      <th>2</th>\n",
       "      <td>adam kinzinger</td>\n",
       "      <td>AAL</td>\n",
       "      <td>2020</td>\n",
       "      <td>07/21/2020</td>\n",
       "      <td>2020-06-09</td>\n",
       "      <td>NaN</td>\n",
       "      <td>American Airlines Group, Inc.</td>\n",
       "      <td>purchase</td>\n",
       "      <td>$1,001 - $15,000</td>\n",
       "      <td>Hon. Adam Kinzinger</td>\n",
       "      <td>IL16</td>\n",
       "      <td>https://disclosures-clerk.house.gov/public_dis...</td>\n",
       "      <td>False</td>\n",
       "      <td>Republican</td>\n",
       "      <td>False</td>\n",
       "      <td>$1,001 - $15,000</td>\n",
       "    </tr>\n",
       "    <tr>\n",
       "      <th>3</th>\n",
       "      <td>adam kinzinger</td>\n",
       "      <td>AAL</td>\n",
       "      <td>2020</td>\n",
       "      <td>07/21/2020</td>\n",
       "      <td>2020-06-11</td>\n",
       "      <td>NaN</td>\n",
       "      <td>American Airlines Group, Inc.</td>\n",
       "      <td>purchase</td>\n",
       "      <td>$1,001 - $15,000</td>\n",
       "      <td>Hon. Adam Kinzinger</td>\n",
       "      <td>IL16</td>\n",
       "      <td>https://disclosures-clerk.house.gov/public_dis...</td>\n",
       "      <td>False</td>\n",
       "      <td>Republican</td>\n",
       "      <td>False</td>\n",
       "      <td>$1,001 - $15,000</td>\n",
       "    </tr>\n",
       "    <tr>\n",
       "      <th>4</th>\n",
       "      <td>adam kinzinger</td>\n",
       "      <td>AAL</td>\n",
       "      <td>2020</td>\n",
       "      <td>07/21/2020</td>\n",
       "      <td>2020-06-25</td>\n",
       "      <td>NaN</td>\n",
       "      <td>American Airlines Group, Inc.</td>\n",
       "      <td>purchase</td>\n",
       "      <td>$1,001 - $15,000</td>\n",
       "      <td>Hon. Adam Kinzinger</td>\n",
       "      <td>IL16</td>\n",
       "      <td>https://disclosures-clerk.house.gov/public_dis...</td>\n",
       "      <td>False</td>\n",
       "      <td>Republican</td>\n",
       "      <td>False</td>\n",
       "      <td>$1,001 - $15,000</td>\n",
       "    </tr>\n",
       "  </tbody>\n",
       "</table>\n",
       "</div>"
      ],
      "text/plain": [
       "                index ticker  disclosure_year disclosure_date  \\\n",
       "0  abigail spanberger    LHX             2021      06/03/2021   \n",
       "1  abigail spanberger    NaN             2020      03/20/2020   \n",
       "2      adam kinzinger    AAL             2020      07/21/2020   \n",
       "3      adam kinzinger    AAL             2020      07/21/2020   \n",
       "4      adam kinzinger    AAL             2020      07/21/2020   \n",
       "\n",
       "  transaction_date owner              asset_description      type  \\\n",
       "0       2021-06-01  self   L3Harris Special Stock Grant  purchase   \n",
       "1       2020-02-28  self   L3Harris Special Stock Grant  purchase   \n",
       "2       2020-06-09   NaN  American Airlines Group, Inc.  purchase   \n",
       "3       2020-06-11   NaN  American Airlines Group, Inc.  purchase   \n",
       "4       2020-06-25   NaN  American Airlines Group, Inc.  purchase   \n",
       "\n",
       "             amount           representative district  \\\n",
       "0  $1,001 - $15,000  Hon. Abigail Spanberger     VA07   \n",
       "1  $1,001 - $15,000  Hon. Abigail Spanberger     VA07   \n",
       "2  $1,001 - $15,000      Hon. Adam Kinzinger     IL16   \n",
       "3  $1,001 - $15,000      Hon. Adam Kinzinger     IL16   \n",
       "4  $1,001 - $15,000      Hon. Adam Kinzinger     IL16   \n",
       "\n",
       "                                            ptr_link  cap_gains_over_200_usd  \\\n",
       "0  https://disclosures-clerk.house.gov/public_dis...                   False   \n",
       "1  https://disclosures-clerk.house.gov/public_dis...                   False   \n",
       "2  https://disclosures-clerk.house.gov/public_dis...                   False   \n",
       "3  https://disclosures-clerk.house.gov/public_dis...                   False   \n",
       "4  https://disclosures-clerk.house.gov/public_dis...                   False   \n",
       "\n",
       "  current_party  is_democratic    amount_cleaned  \n",
       "0    Democratic           True  $1,001 - $15,000  \n",
       "1    Democratic           True  $1,001 - $15,000  \n",
       "2    Republican          False  $1,001 - $15,000  \n",
       "3    Republican          False  $1,001 - $15,000  \n",
       "4    Republican          False  $1,001 - $15,000  "
      ]
     },
     "execution_count": 7,
     "metadata": {},
     "output_type": "execute_result"
    }
   ],
   "source": [
    "keys = merged[merged['current_party'].isna()]['index'].unique()\n",
    "parties = ['r','d','r','r','r','r','r','d','r','r','r','r','r','r','r','r','r','r','r','d','d','r','d']\n",
    "fill_vals = dict(zip(keys, parties))\n",
    "merged = merged.set_index('index')\n",
    "merged['current_party'] = merged['current_party'].fillna(value = fill_vals).replace({'r': 'Republican', 'd': 'Democratic'})\n",
    "merged['is_democratic'] = merged['current_party'].apply(lambda x : True if x == 'Democratic' else False)\n",
    "replace_dict = {\n",
    "    '$1,001 -': '$0 - $1000',\n",
    "    '$1,000,001 - $5,000,000': '$1,000,001 +',\n",
    "    '$1,000,000 - $5,000,000': '$1,000,001 +',\n",
    "    '$50,000,000 +': '$1,000,001 +',\n",
    "    '$15,000 - $50,000': '$15,001 - $50,000',\n",
    "    '$1,000,000 +': '$1,000,001 +',\n",
    "    '$1,000 - $15,000': '$1,001 - $15,000',\n",
    "    '$5,000,001 - $25,000,000': '$1,000,001 +'\n",
    "    \n",
    "}\n",
    "merged['amount_cleaned'] = merged['amount'].replace(replace_dict)\n",
    "merged['amount_cleaned'].value_counts() / merged.shape[0]\n",
    "merged = merged.reset_index()\n",
    "merged.head()"
   ]
  },
  {
   "cell_type": "code",
   "execution_count": 9,
   "id": "0bb71f9c",
   "metadata": {},
   "outputs": [],
   "source": [
    "stocks_df = merged[['amount_cleaned', 'is_democratic', 'district', 'transaction_date', 'type']]"
   ]
  },
  {
   "cell_type": "code",
   "execution_count": 10,
   "id": "c7282f0e",
   "metadata": {},
   "outputs": [
    {
     "name": "stderr",
     "output_type": "stream",
     "text": [
      "C:\\Users\\kelvi\\AppData\\Local\\Temp\\ipykernel_17756\\2503071088.py:2: FutureWarning: The default value of regex will change from True to False in a future version. In addition, single character regular expressions will *not* be treated as literal strings when regex=True.\n",
      "  stocks_df['amount_lower'] = (stocks_df['amount_cleaned'].apply(lambda x: x.split(' - '))\n",
      "C:\\Users\\kelvi\\AppData\\Local\\Temp\\ipykernel_17756\\2503071088.py:2: SettingWithCopyWarning: \n",
      "A value is trying to be set on a copy of a slice from a DataFrame.\n",
      "Try using .loc[row_indexer,col_indexer] = value instead\n",
      "\n",
      "See the caveats in the documentation: https://pandas.pydata.org/pandas-docs/stable/user_guide/indexing.html#returning-a-view-versus-a-copy\n",
      "  stocks_df['amount_lower'] = (stocks_df['amount_cleaned'].apply(lambda x: x.split(' - '))\n"
     ]
    },
    {
     "data": {
      "text/html": [
       "<div>\n",
       "<style scoped>\n",
       "    .dataframe tbody tr th:only-of-type {\n",
       "        vertical-align: middle;\n",
       "    }\n",
       "\n",
       "    .dataframe tbody tr th {\n",
       "        vertical-align: top;\n",
       "    }\n",
       "\n",
       "    .dataframe thead th {\n",
       "        text-align: right;\n",
       "    }\n",
       "</style>\n",
       "<table border=\"1\" class=\"dataframe\">\n",
       "  <thead>\n",
       "    <tr style=\"text-align: right;\">\n",
       "      <th></th>\n",
       "      <th>amount_cleaned</th>\n",
       "      <th>is_democratic</th>\n",
       "      <th>district</th>\n",
       "      <th>transaction_date</th>\n",
       "      <th>type</th>\n",
       "      <th>amount_lower</th>\n",
       "      <th>is_purchase</th>\n",
       "      <th>state</th>\n",
       "      <th>transaction_month</th>\n",
       "    </tr>\n",
       "  </thead>\n",
       "  <tbody>\n",
       "    <tr>\n",
       "      <th>0</th>\n",
       "      <td>$1,001 - $15,000</td>\n",
       "      <td>True</td>\n",
       "      <td>VA07</td>\n",
       "      <td>2021-06-01</td>\n",
       "      <td>purchase</td>\n",
       "      <td>1001.0</td>\n",
       "      <td>True</td>\n",
       "      <td>VA</td>\n",
       "      <td>6</td>\n",
       "    </tr>\n",
       "    <tr>\n",
       "      <th>1</th>\n",
       "      <td>$1,001 - $15,000</td>\n",
       "      <td>True</td>\n",
       "      <td>VA07</td>\n",
       "      <td>2020-02-28</td>\n",
       "      <td>purchase</td>\n",
       "      <td>1001.0</td>\n",
       "      <td>True</td>\n",
       "      <td>VA</td>\n",
       "      <td>2</td>\n",
       "    </tr>\n",
       "    <tr>\n",
       "      <th>2</th>\n",
       "      <td>$1,001 - $15,000</td>\n",
       "      <td>False</td>\n",
       "      <td>IL16</td>\n",
       "      <td>2020-06-09</td>\n",
       "      <td>purchase</td>\n",
       "      <td>1001.0</td>\n",
       "      <td>True</td>\n",
       "      <td>IL</td>\n",
       "      <td>6</td>\n",
       "    </tr>\n",
       "    <tr>\n",
       "      <th>3</th>\n",
       "      <td>$1,001 - $15,000</td>\n",
       "      <td>False</td>\n",
       "      <td>IL16</td>\n",
       "      <td>2020-06-11</td>\n",
       "      <td>purchase</td>\n",
       "      <td>1001.0</td>\n",
       "      <td>True</td>\n",
       "      <td>IL</td>\n",
       "      <td>6</td>\n",
       "    </tr>\n",
       "    <tr>\n",
       "      <th>4</th>\n",
       "      <td>$1,001 - $15,000</td>\n",
       "      <td>False</td>\n",
       "      <td>IL16</td>\n",
       "      <td>2020-06-25</td>\n",
       "      <td>purchase</td>\n",
       "      <td>1001.0</td>\n",
       "      <td>True</td>\n",
       "      <td>IL</td>\n",
       "      <td>6</td>\n",
       "    </tr>\n",
       "    <tr>\n",
       "      <th>...</th>\n",
       "      <td>...</td>\n",
       "      <td>...</td>\n",
       "      <td>...</td>\n",
       "      <td>...</td>\n",
       "      <td>...</td>\n",
       "      <td>...</td>\n",
       "      <td>...</td>\n",
       "      <td>...</td>\n",
       "      <td>...</td>\n",
       "    </tr>\n",
       "    <tr>\n",
       "      <th>14175</th>\n",
       "      <td>$1,001 - $15,000</td>\n",
       "      <td>True</td>\n",
       "      <td>CA19</td>\n",
       "      <td>2021-09-02</td>\n",
       "      <td>purchase</td>\n",
       "      <td>1001.0</td>\n",
       "      <td>True</td>\n",
       "      <td>CA</td>\n",
       "      <td>9</td>\n",
       "    </tr>\n",
       "    <tr>\n",
       "      <th>14176</th>\n",
       "      <td>$1,001 - $15,000</td>\n",
       "      <td>True</td>\n",
       "      <td>CA19</td>\n",
       "      <td>2021-09-02</td>\n",
       "      <td>purchase</td>\n",
       "      <td>1001.0</td>\n",
       "      <td>True</td>\n",
       "      <td>CA</td>\n",
       "      <td>9</td>\n",
       "    </tr>\n",
       "    <tr>\n",
       "      <th>14177</th>\n",
       "      <td>$1,001 - $15,000</td>\n",
       "      <td>True</td>\n",
       "      <td>CA19</td>\n",
       "      <td>2021-09-02</td>\n",
       "      <td>purchase</td>\n",
       "      <td>1001.0</td>\n",
       "      <td>True</td>\n",
       "      <td>CA</td>\n",
       "      <td>9</td>\n",
       "    </tr>\n",
       "    <tr>\n",
       "      <th>14178</th>\n",
       "      <td>$1,001 - $15,000</td>\n",
       "      <td>True</td>\n",
       "      <td>CA19</td>\n",
       "      <td>2021-09-02</td>\n",
       "      <td>purchase</td>\n",
       "      <td>1001.0</td>\n",
       "      <td>True</td>\n",
       "      <td>CA</td>\n",
       "      <td>9</td>\n",
       "    </tr>\n",
       "    <tr>\n",
       "      <th>14179</th>\n",
       "      <td>$1,001 - $15,000</td>\n",
       "      <td>True</td>\n",
       "      <td>CA19</td>\n",
       "      <td>2021-12-14</td>\n",
       "      <td>sale_full</td>\n",
       "      <td>1001.0</td>\n",
       "      <td>False</td>\n",
       "      <td>CA</td>\n",
       "      <td>12</td>\n",
       "    </tr>\n",
       "  </tbody>\n",
       "</table>\n",
       "<p>14057 rows × 9 columns</p>\n",
       "</div>"
      ],
      "text/plain": [
       "         amount_cleaned  is_democratic district transaction_date       type  \\\n",
       "0      $1,001 - $15,000           True     VA07       2021-06-01   purchase   \n",
       "1      $1,001 - $15,000           True     VA07       2020-02-28   purchase   \n",
       "2      $1,001 - $15,000          False     IL16       2020-06-09   purchase   \n",
       "3      $1,001 - $15,000          False     IL16       2020-06-11   purchase   \n",
       "4      $1,001 - $15,000          False     IL16       2020-06-25   purchase   \n",
       "...                 ...            ...      ...              ...        ...   \n",
       "14175  $1,001 - $15,000           True     CA19       2021-09-02   purchase   \n",
       "14176  $1,001 - $15,000           True     CA19       2021-09-02   purchase   \n",
       "14177  $1,001 - $15,000           True     CA19       2021-09-02   purchase   \n",
       "14178  $1,001 - $15,000           True     CA19       2021-09-02   purchase   \n",
       "14179  $1,001 - $15,000           True     CA19       2021-12-14  sale_full   \n",
       "\n",
       "       amount_lower  is_purchase state  transaction_month  \n",
       "0            1001.0         True    VA                  6  \n",
       "1            1001.0         True    VA                  2  \n",
       "2            1001.0         True    IL                  6  \n",
       "3            1001.0         True    IL                  6  \n",
       "4            1001.0         True    IL                  6  \n",
       "...             ...          ...   ...                ...  \n",
       "14175        1001.0         True    CA                  9  \n",
       "14176        1001.0         True    CA                  9  \n",
       "14177        1001.0         True    CA                  9  \n",
       "14178        1001.0         True    CA                  9  \n",
       "14179        1001.0        False    CA                 12  \n",
       "\n",
       "[14057 rows x 9 columns]"
      ]
     },
     "execution_count": 10,
     "metadata": {},
     "output_type": "execute_result"
    }
   ],
   "source": [
    "# amount - create lower bound\n",
    "stocks_df['amount_lower'] = (stocks_df['amount_cleaned'].apply(lambda x: x.split(' - '))\n",
    "                                                        .str[0].str.replace('$', '')\n",
    "                                                        .str.replace(',', '')\n",
    "                                                        .str.replace('+', '')\n",
    "                                                        .str.replace(' ', '')\n",
    "                                                        .astype(float))\n",
    "\n",
    "# type - remove\n",
    "stocks_df = stocks_df[stocks_df['type'] != 'exchange']\n",
    "stocks_df['is_purchase'] = stocks_df['type'].str.contains('purchase')\n",
    "stocks_df['state'] = stocks_df['district'].str[:2]\n",
    "stocks_df['transaction_month'] = stocks_df['transaction_date'].str.split('-').str[1].astype(int)\n",
    "stocks_df"
   ]
  },
  {
   "cell_type": "code",
   "execution_count": 12,
   "id": "bc25bf80",
   "metadata": {},
   "outputs": [
    {
     "data": {
      "text/plain": [
       "array([False, False, False, ..., False, False, False])"
      ]
     },
     "execution_count": 12,
     "metadata": {},
     "output_type": "execute_result"
    }
   ],
   "source": [
    "# Baseline Model\n",
    "from sklearn.compose import ColumnTransformer\n",
    "from sklearn.pipeline import Pipeline\n",
    "from sklearn.preprocessing import OrdinalEncoder\n",
    "from sklearn.preprocessing import LabelEncoder\n",
    "from sklearn.model_selection import train_test_split\n",
    "from sklearn.linear_model import LogisticRegression\n",
    "from sklearn.preprocessing import OneHotEncoder\n",
    "\n",
    "preproc = ColumnTransformer(\n",
    "    transformers=[\n",
    "        ('ord-encoder', OrdinalEncoder(), ['amount_lower'])\n",
    "        #('one-hot', OneHotEncoder(), ['state'])\n",
    "    ],\n",
    "    remainder='passthrough'\n",
    ")\n",
    "\n",
    "pl = Pipeline([\n",
    "    ('preprocessor', preproc),\n",
    "    ('log-reg', LogisticRegression())\n",
    "])\n",
    "\n",
    "X = stocks_df[['is_democratic', 'amount_lower']]\n",
    "y = stocks_df['is_purchase']\n",
    "X_train, X_test, y_train, y_test = train_test_split(X, y, test_size=0.25)\n",
    "\n",
    "pl.fit(X_train, y_train)\n",
    "pl.predict(X_train)"
   ]
  },
  {
   "cell_type": "code",
   "execution_count": 17,
   "id": "8651137f",
   "metadata": {},
   "outputs": [],
   "source": [
    "# focus on accuracy\n",
    "# 5 folds\n",
    "# for logistic: solver, penalty, C\n",
    "# for RandomForest: max depth, n_estimators, min_sample_split\n",
    "# for SVM: "
   ]
  },
  {
   "cell_type": "code",
   "execution_count": 23,
   "id": "2c784fdd",
   "metadata": {},
   "outputs": [],
   "source": [
    "# Score for SVM"
   ]
  },
  {
   "cell_type": "code",
   "execution_count": 14,
   "id": "41cbffcc",
   "metadata": {},
   "outputs": [
    {
     "data": {
      "text/plain": [
       "0.5535002845759818"
      ]
     },
     "execution_count": 14,
     "metadata": {},
     "output_type": "execute_result"
    }
   ],
   "source": [
    "from sklearn.svm import SVC\n",
    "pl_2 = Pipeline([\n",
    "    ('preprocessor', preproc),\n",
    "    ('svm', SVC())\n",
    "])\n",
    "pl_2.fit(X_train, y_train)\n",
    "pl_2.score(X_train, y_train)"
   ]
  },
  {
   "cell_type": "code",
   "execution_count": 21,
   "id": "bc9f39c9",
   "metadata": {},
   "outputs": [
    {
     "data": {
      "text/plain": [
       "0.5368421052631579"
      ]
     },
     "execution_count": 21,
     "metadata": {},
     "output_type": "execute_result"
    }
   ],
   "source": [
    "pl_2.score(X_test, y_test)"
   ]
  },
  {
   "cell_type": "code",
   "execution_count": 22,
   "id": "284f8339",
   "metadata": {},
   "outputs": [],
   "source": [
    "# Scores for Logistic"
   ]
  },
  {
   "cell_type": "code",
   "execution_count": 27,
   "id": "b86ea012",
   "metadata": {},
   "outputs": [
    {
     "data": {
      "text/plain": [
       "0.5501802314551318"
      ]
     },
     "execution_count": 27,
     "metadata": {},
     "output_type": "execute_result"
    }
   ],
   "source": [
    "pl.score(X_train, y_train)"
   ]
  },
  {
   "cell_type": "code",
   "execution_count": 28,
   "id": "bdd8dd63",
   "metadata": {},
   "outputs": [
    {
     "data": {
      "text/plain": [
       "0.5365576102418208"
      ]
     },
     "execution_count": 28,
     "metadata": {},
     "output_type": "execute_result"
    }
   ],
   "source": [
    "pl.score(X_test, y_test)"
   ]
  },
  {
   "cell_type": "code",
   "execution_count": 24,
   "id": "1ebfd1ba",
   "metadata": {},
   "outputs": [],
   "source": [
    "# Score for Random Forest"
   ]
  },
  {
   "cell_type": "code",
   "execution_count": 25,
   "id": "c3e42d24",
   "metadata": {},
   "outputs": [
    {
     "data": {
      "text/plain": [
       "0.5533105672547903"
      ]
     },
     "execution_count": 25,
     "metadata": {},
     "output_type": "execute_result"
    }
   ],
   "source": [
    "from sklearn.ensemble import RandomForestClassifier\n",
    "pl_3 = Pipeline([\n",
    "    ('preprocessor', preproc),\n",
    "    ('rf', RandomForestClassifier())\n",
    "])\n",
    "pl_3.fit(X_train, y_train)\n",
    "pl_3.score(X_train, y_train)"
   ]
  },
  {
   "cell_type": "code",
   "execution_count": 26,
   "id": "80f6d9e2",
   "metadata": {},
   "outputs": [
    {
     "data": {
      "text/plain": [
       "0.5379800853485064"
      ]
     },
     "execution_count": 26,
     "metadata": {},
     "output_type": "execute_result"
    }
   ],
   "source": [
    "pl_3.score(X_test, y_test)"
   ]
  },
  {
   "cell_type": "code",
   "execution_count": 13,
   "id": "f7899025",
   "metadata": {},
   "outputs": [],
   "source": [
    "from sklearn.model_selection import GridSearchCV\n",
    "import warnings\n",
    "warnings.filterwarnings('ignore')"
   ]
  },
  {
   "cell_type": "code",
   "execution_count": 15,
   "id": "bced165f",
   "metadata": {},
   "outputs": [
    {
     "data": {
      "text/plain": [
       "0.7124833997343958"
      ]
     },
     "execution_count": 15,
     "metadata": {},
     "output_type": "execute_result"
    }
   ],
   "source": [
    "preproc = ColumnTransformer(\n",
    "    transformers=[\n",
    "        ('ord-encoder', OrdinalEncoder(), ['amount_lower']),\n",
    "        ('one-hot', OneHotEncoder(), ['state', 'transaction_month']),\n",
    "    ],\n",
    "    remainder='passthrough'\n",
    ")\n",
    "\n",
    "final_pl = Pipeline([\n",
    "    ('preprocessor', preproc),\n",
    "    ('svm', SVC(C=1000, gamma=0.1))\n",
    "])\n",
    "\n",
    "X_final = stocks_df[['is_democratic', 'amount_lower', 'state', 'transaction_month']]\n",
    "y_final = stocks_df['is_purchase']\n",
    "X_train, X_test, y_train, y_test = train_test_split(X_final, y_final, test_size=0.25)\n",
    "\n",
    "final_pl.fit(X_train, y_train)\n",
    "final_pl.predict(X_train)\n",
    "final_pl.score(X_train, y_train)"
   ]
  },
  {
   "cell_type": "code",
   "execution_count": 16,
   "id": "f6b0a409",
   "metadata": {},
   "outputs": [
    {
     "data": {
      "text/plain": [
       "0.6557610241820768"
      ]
     },
     "execution_count": 16,
     "metadata": {},
     "output_type": "execute_result"
    }
   ],
   "source": [
    "final_pl.score(X_test, y_test)"
   ]
  },
  {
   "cell_type": "code",
   "execution_count": 17,
   "id": "759ad4b4",
   "metadata": {},
   "outputs": [],
   "source": [
    "from sklearn import metrics"
   ]
  },
  {
   "cell_type": "code",
   "execution_count": 18,
   "id": "e1a3e480",
   "metadata": {},
   "outputs": [
    {
     "data": {
      "text/plain": [
       "array([False,  True,  True, ..., False,  True,  True])"
      ]
     },
     "execution_count": 18,
     "metadata": {},
     "output_type": "execute_result"
    }
   ],
   "source": [
    "predicted = final_pl.predict(X_test)\n",
    "predicted"
   ]
  },
  {
   "cell_type": "code",
   "execution_count": 22,
   "id": "2505ee4b",
   "metadata": {},
   "outputs": [
    {
     "data": {
      "text/html": [
       "<div>\n",
       "<style scoped>\n",
       "    .dataframe tbody tr th:only-of-type {\n",
       "        vertical-align: middle;\n",
       "    }\n",
       "\n",
       "    .dataframe tbody tr th {\n",
       "        vertical-align: top;\n",
       "    }\n",
       "\n",
       "    .dataframe thead th {\n",
       "        text-align: right;\n",
       "    }\n",
       "</style>\n",
       "<table border=\"1\" class=\"dataframe\">\n",
       "  <thead>\n",
       "    <tr style=\"text-align: right;\">\n",
       "      <th></th>\n",
       "      <th>is_democratic</th>\n",
       "      <th>amount_lower</th>\n",
       "      <th>state</th>\n",
       "      <th>transaction_month</th>\n",
       "      <th>tag</th>\n",
       "      <th>prediction</th>\n",
       "    </tr>\n",
       "  </thead>\n",
       "  <tbody>\n",
       "    <tr>\n",
       "      <th>9442</th>\n",
       "      <td>True</td>\n",
       "      <td>1001.0</td>\n",
       "      <td>FL</td>\n",
       "      <td>5</td>\n",
       "      <td>True</td>\n",
       "      <td>False</td>\n",
       "    </tr>\n",
       "    <tr>\n",
       "      <th>2262</th>\n",
       "      <td>True</td>\n",
       "      <td>1001.0</td>\n",
       "      <td>MN</td>\n",
       "      <td>1</td>\n",
       "      <td>True</td>\n",
       "      <td>True</td>\n",
       "    </tr>\n",
       "    <tr>\n",
       "      <th>9345</th>\n",
       "      <td>True</td>\n",
       "      <td>1001.0</td>\n",
       "      <td>FL</td>\n",
       "      <td>11</td>\n",
       "      <td>False</td>\n",
       "      <td>True</td>\n",
       "    </tr>\n",
       "    <tr>\n",
       "      <th>13277</th>\n",
       "      <td>True</td>\n",
       "      <td>15001.0</td>\n",
       "      <td>WA</td>\n",
       "      <td>6</td>\n",
       "      <td>True</td>\n",
       "      <td>True</td>\n",
       "    </tr>\n",
       "    <tr>\n",
       "      <th>8810</th>\n",
       "      <td>True</td>\n",
       "      <td>1001.0</td>\n",
       "      <td>OR</td>\n",
       "      <td>2</td>\n",
       "      <td>False</td>\n",
       "      <td>True</td>\n",
       "    </tr>\n",
       "    <tr>\n",
       "      <th>...</th>\n",
       "      <td>...</td>\n",
       "      <td>...</td>\n",
       "      <td>...</td>\n",
       "      <td>...</td>\n",
       "      <td>...</td>\n",
       "      <td>...</td>\n",
       "    </tr>\n",
       "    <tr>\n",
       "      <th>3851</th>\n",
       "      <td>True</td>\n",
       "      <td>1001.0</td>\n",
       "      <td>PA</td>\n",
       "      <td>3</td>\n",
       "      <td>False</td>\n",
       "      <td>True</td>\n",
       "    </tr>\n",
       "    <tr>\n",
       "      <th>12972</th>\n",
       "      <td>True</td>\n",
       "      <td>1001.0</td>\n",
       "      <td>NV</td>\n",
       "      <td>2</td>\n",
       "      <td>False</td>\n",
       "      <td>False</td>\n",
       "    </tr>\n",
       "    <tr>\n",
       "      <th>11231</th>\n",
       "      <td>True</td>\n",
       "      <td>250001.0</td>\n",
       "      <td>CA</td>\n",
       "      <td>7</td>\n",
       "      <td>True</td>\n",
       "      <td>False</td>\n",
       "    </tr>\n",
       "    <tr>\n",
       "      <th>5207</th>\n",
       "      <td>False</td>\n",
       "      <td>15001.0</td>\n",
       "      <td>MT</td>\n",
       "      <td>1</td>\n",
       "      <td>False</td>\n",
       "      <td>True</td>\n",
       "    </tr>\n",
       "    <tr>\n",
       "      <th>3994</th>\n",
       "      <td>True</td>\n",
       "      <td>1001.0</td>\n",
       "      <td>OR</td>\n",
       "      <td>2</td>\n",
       "      <td>True</td>\n",
       "      <td>True</td>\n",
       "    </tr>\n",
       "  </tbody>\n",
       "</table>\n",
       "<p>3515 rows × 6 columns</p>\n",
       "</div>"
      ],
      "text/plain": [
       "       is_democratic  amount_lower state  transaction_month    tag  prediction\n",
       "9442            True        1001.0    FL                  5   True       False\n",
       "2262            True        1001.0    MN                  1   True        True\n",
       "9345            True        1001.0    FL                 11  False        True\n",
       "13277           True       15001.0    WA                  6   True        True\n",
       "8810            True        1001.0    OR                  2  False        True\n",
       "...              ...           ...   ...                ...    ...         ...\n",
       "3851            True        1001.0    PA                  3  False        True\n",
       "12972           True        1001.0    NV                  2  False       False\n",
       "11231           True      250001.0    CA                  7   True       False\n",
       "5207           False       15001.0    MT                  1  False        True\n",
       "3994            True        1001.0    OR                  2   True        True\n",
       "\n",
       "[3515 rows x 6 columns]"
      ]
     },
     "execution_count": 22,
     "metadata": {},
     "output_type": "execute_result"
    }
   ],
   "source": [
    "results = X_test\n",
    "results['tag'] = y_test\n",
    "results['prediction'] = final_pl.predict(X_test)\n",
    "results"
   ]
  },
  {
   "cell_type": "code",
   "execution_count": 31,
   "id": "ab0eb6da",
   "metadata": {},
   "outputs": [],
   "source": [
    "\n",
    "obs = results.groupby('is_democratic').apply(lambda x: metrics.accuracy_score(x['tag'], x['prediction'])).diff().iloc[-1]"
   ]
  },
  {
   "cell_type": "code",
   "execution_count": 33,
   "id": "dcbfe5d2",
   "metadata": {},
   "outputs": [],
   "source": [
    "diff_scores = []\n",
    "for _ in range(1000):\n",
    "    s = (\n",
    "        results[['is_democratic', 'prediction', 'tag']]\n",
    "        .assign(is_democratic=results.is_democratic.sample(frac=1.0, replace=False).reset_index(drop=True))\n",
    "        .groupby('is_democratic')\n",
    "        .apply(lambda x: metrics.accuracy_score(x['tag'], x['prediction']))\n",
    "        .diff()\n",
    "        .iloc[-1]\n",
    "    )\n",
    "    \n",
    "    diff_scores.append(s)\n"
   ]
  },
  {
   "cell_type": "code",
   "execution_count": 35,
   "id": "15636573",
   "metadata": {},
   "outputs": [
    {
     "data": {
      "text/plain": [
       "0.001"
      ]
     },
     "execution_count": 35,
     "metadata": {},
     "output_type": "execute_result"
    },
    {
     "data": {
      "image/png": "[encoded data removed]",
      "text/plain": [
       "<Figure size 720x360 with 1 Axes>"
      ]
     },
     "metadata": {
      "needs_background": "light"
     },
     "output_type": "display_data"
    }
   ],
   "source": [
    "plt.figure(figsize=(10, 5))\n",
    "pd.Series(diff_scores).plot(kind='hist', ec='w', density=True, bins=15, title='Difference in Accuracy (Young - Old)')\n",
    "plt.axvline(x=obs, color='red', label='observed difference in accuracy')\n",
    "(diff_scores <= obs).mean()"
   ]
  },
  {
   "cell_type": "code",
   "execution_count": 53,
   "id": "f8e18628",
   "metadata": {},
   "outputs": [
    {
     "data": {
      "text/plain": [
       "0.608518307721495"
      ]
     },
     "execution_count": 53,
     "metadata": {},
     "output_type": "execute_result"
    }
   ],
   "source": [
    "# Grid Search for Logistic\n",
    "#solver, penalty, C\n",
    "hyper_lr = {\n",
    "    'log-reg__penalty': ['l1', 'l2'],\n",
    "    'log-reg__C': np.logspace(-3,3,7),\n",
    "    'log-reg__solver': ['newton-cg', 'lbfgs', 'liblinear', 'sag', 'saga']\n",
    "}\n",
    "model_1 = GridSearchCV(final_pl, param_grid = hyper_lr, scoring='accuracy', cv=5)\n",
    "model_1.fit(X_train, y_train)\n",
    "model_1.best_params_\n",
    "model_1.score(X_train,y_train)"
   ]
  },
  {
   "cell_type": "code",
   "execution_count": 54,
   "id": "80decff5",
   "metadata": {},
   "outputs": [
    {
     "data": {
      "text/plain": [
       "{'log-reg__C': 1.0, 'log-reg__penalty': 'l2', 'log-reg__solver': 'sag'}"
      ]
     },
     "execution_count": 54,
     "metadata": {},
     "output_type": "execute_result"
    }
   ],
   "source": [
    "model_1.best_params_"
   ]
  },
  {
   "cell_type": "code",
   "execution_count": 55,
   "id": "d44f7f91",
   "metadata": {},
   "outputs": [
    {
     "data": {
      "text/plain": [
       "0.5971550497866287"
      ]
     },
     "execution_count": 55,
     "metadata": {},
     "output_type": "execute_result"
    }
   ],
   "source": [
    "model_1.score(X_test, y_test)"
   ]
  },
  {
   "cell_type": "code",
   "execution_count": 11,
   "id": "7086c104",
   "metadata": {},
   "outputs": [
    {
     "ename": "NameError",
     "evalue": "name 'Pipeline' is not defined",
     "output_type": "error",
     "traceback": [
      "\u001b[1;31m---------------------------------------------------------------------------\u001b[0m",
      "\u001b[1;31mNameError\u001b[0m                                 Traceback (most recent call last)",
      "Input \u001b[1;32mIn [11]\u001b[0m, in \u001b[0;36m<cell line: 2>\u001b[1;34m()\u001b[0m\n\u001b[0;32m      1\u001b[0m \u001b[38;5;66;03m# Grid Search for SVM\u001b[39;00m\n\u001b[1;32m----> 2\u001b[0m final_pl_2 \u001b[38;5;241m=\u001b[39m \u001b[43mPipeline\u001b[49m([\n\u001b[0;32m      3\u001b[0m     (\u001b[38;5;124m'\u001b[39m\u001b[38;5;124mpreprocessor\u001b[39m\u001b[38;5;124m'\u001b[39m, preproc),\n\u001b[0;32m      4\u001b[0m     (\u001b[38;5;124m'\u001b[39m\u001b[38;5;124msvm\u001b[39m\u001b[38;5;124m'\u001b[39m, SVC(C\u001b[38;5;241m=\u001b[39m\u001b[38;5;241m1000\u001b[39m, gamma\u001b[38;5;241m=\u001b[39m\u001b[38;5;241m0.1\u001b[39m))\n\u001b[0;32m      5\u001b[0m ])\n\u001b[0;32m      7\u001b[0m hyper_svm \u001b[38;5;241m=\u001b[39m {\n\u001b[0;32m      8\u001b[0m     \u001b[38;5;124m'\u001b[39m\u001b[38;5;124msvm__gamma\u001b[39m\u001b[38;5;124m'\u001b[39m: [\u001b[38;5;241m1\u001b[39m, \u001b[38;5;241m0.1\u001b[39m, \u001b[38;5;241m0.01\u001b[39m, \u001b[38;5;241m0.001\u001b[39m, \u001b[38;5;241m0.0001\u001b[39m],\n\u001b[0;32m      9\u001b[0m     \u001b[38;5;124m'\u001b[39m\u001b[38;5;124msvm__C\u001b[39m\u001b[38;5;124m'\u001b[39m: [\u001b[38;5;241m0.1\u001b[39m, \u001b[38;5;241m1\u001b[39m, \u001b[38;5;241m10\u001b[39m, \u001b[38;5;241m100\u001b[39m, \u001b[38;5;241m1000\u001b[39m]\n\u001b[0;32m     10\u001b[0m }\n\u001b[0;32m     11\u001b[0m \u001b[38;5;66;03m#model_2 = GridSearchCV(final_pl_2, param_grid = hyper_svm, scoring='accuracy', cv=5)\u001b[39;00m\n",
      "\u001b[1;31mNameError\u001b[0m: name 'Pipeline' is not defined"
     ]
    }
   ],
   "source": [
    "# Grid Search for SVM\n",
    "final_pl_2 = Pipeline([\n",
    "    ('preprocessor', preproc),\n",
    "    ('svm', SVC(C=1000, gamma=0.1))\n",
    "])\n",
    "\n",
    "hyper_svm = {\n",
    "    'svm__gamma': [1, 0.1, 0.01, 0.001, 0.0001],\n",
    "    'svm__C': [0.1, 1, 10, 100, 1000]\n",
    "}\n",
    "#model_2 = GridSearchCV(final_pl_2, param_grid = hyper_svm, scoring='accuracy', cv=5)\n",
    "final_pl_2.fit(X_train, y_train)\n",
    "#print(model_2.best_params_)\n",
    "final_pl_2.score(X_train,y_train)"
   ]
  },
  {
   "cell_type": "code",
   "execution_count": 62,
   "id": "4eb4e856",
   "metadata": {},
   "outputs": [
    {
     "data": {
      "text/plain": [
       "0.6486486486486487"
      ]
     },
     "execution_count": 62,
     "metadata": {},
     "output_type": "execute_result"
    }
   ],
   "source": [
    "model_2.score(X_test, y_test)"
   ]
  },
  {
   "cell_type": "code",
   "execution_count": 60,
   "id": "3bab0be2",
   "metadata": {},
   "outputs": [
    {
     "ename": "KeyboardInterrupt",
     "evalue": "",
     "output_type": "error",
     "traceback": [
      "\u001b[1;31m---------------------------------------------------------------------------\u001b[0m",
      "\u001b[1;31mKeyboardInterrupt\u001b[0m                         Traceback (most recent call last)",
      "Input \u001b[1;32mIn [60]\u001b[0m, in \u001b[0;36m<cell line: 14>\u001b[1;34m()\u001b[0m\n\u001b[0;32m      8\u001b[0m hyper_rf \u001b[38;5;241m=\u001b[39m {\n\u001b[0;32m      9\u001b[0m     \u001b[38;5;124m'\u001b[39m\u001b[38;5;124mrf__max_depth\u001b[39m\u001b[38;5;124m'\u001b[39m: np\u001b[38;5;241m.\u001b[39marange(\u001b[38;5;241m2\u001b[39m, \u001b[38;5;241m11\u001b[39m, \u001b[38;5;241m1\u001b[39m),\n\u001b[0;32m     10\u001b[0m     \u001b[38;5;124m'\u001b[39m\u001b[38;5;124mrf__n_estimators\u001b[39m\u001b[38;5;124m'\u001b[39m: np\u001b[38;5;241m.\u001b[39marange(\u001b[38;5;241m10\u001b[39m, \u001b[38;5;241m201\u001b[39m, \u001b[38;5;241m10\u001b[39m),\n\u001b[0;32m     11\u001b[0m     \u001b[38;5;124m'\u001b[39m\u001b[38;5;124mrf__min_samples_split\u001b[39m\u001b[38;5;124m'\u001b[39m: np\u001b[38;5;241m.\u001b[39marange(\u001b[38;5;241m2\u001b[39m, \u001b[38;5;241m31\u001b[39m, \u001b[38;5;241m1\u001b[39m)\n\u001b[0;32m     12\u001b[0m }\n\u001b[0;32m     13\u001b[0m model_3 \u001b[38;5;241m=\u001b[39m GridSearchCV(final_pl_3, param_grid \u001b[38;5;241m=\u001b[39m hyper_rf, scoring\u001b[38;5;241m=\u001b[39m\u001b[38;5;124m'\u001b[39m\u001b[38;5;124maccuracy\u001b[39m\u001b[38;5;124m'\u001b[39m, cv\u001b[38;5;241m=\u001b[39m\u001b[38;5;241m5\u001b[39m)\n\u001b[1;32m---> 14\u001b[0m \u001b[43mmodel_3\u001b[49m\u001b[38;5;241;43m.\u001b[39;49m\u001b[43mfit\u001b[49m\u001b[43m(\u001b[49m\u001b[43mX_train\u001b[49m\u001b[43m,\u001b[49m\u001b[43m \u001b[49m\u001b[43my_train\u001b[49m\u001b[43m)\u001b[49m\n\u001b[0;32m     15\u001b[0m \u001b[38;5;28mprint\u001b[39m(model_3\u001b[38;5;241m.\u001b[39mbest_params_)\n\u001b[0;32m     16\u001b[0m model_3\u001b[38;5;241m.\u001b[39mscore(X_train,y_train)\n",
      "File \u001b[1;32m~\\anaconda3\\envs\\dsc80\\lib\\site-packages\\sklearn\\model_selection\\_search.py:891\u001b[0m, in \u001b[0;36mBaseSearchCV.fit\u001b[1;34m(self, X, y, groups, **fit_params)\u001b[0m\n\u001b[0;32m    885\u001b[0m     results \u001b[38;5;241m=\u001b[39m \u001b[38;5;28mself\u001b[39m\u001b[38;5;241m.\u001b[39m_format_results(\n\u001b[0;32m    886\u001b[0m         all_candidate_params, n_splits, all_out, all_more_results\n\u001b[0;32m    887\u001b[0m     )\n\u001b[0;32m    889\u001b[0m     \u001b[38;5;28;01mreturn\u001b[39;00m results\n\u001b[1;32m--> 891\u001b[0m \u001b[38;5;28;43mself\u001b[39;49m\u001b[38;5;241;43m.\u001b[39;49m\u001b[43m_run_search\u001b[49m\u001b[43m(\u001b[49m\u001b[43mevaluate_candidates\u001b[49m\u001b[43m)\u001b[49m\n\u001b[0;32m    893\u001b[0m \u001b[38;5;66;03m# multimetric is determined here because in the case of a callable\u001b[39;00m\n\u001b[0;32m    894\u001b[0m \u001b[38;5;66;03m# self.scoring the return type is only known after calling\u001b[39;00m\n\u001b[0;32m    895\u001b[0m first_test_score \u001b[38;5;241m=\u001b[39m all_out[\u001b[38;5;241m0\u001b[39m][\u001b[38;5;124m\"\u001b[39m\u001b[38;5;124mtest_scores\u001b[39m\u001b[38;5;124m\"\u001b[39m]\n",
      "File \u001b[1;32m~\\anaconda3\\envs\\dsc80\\lib\\site-packages\\sklearn\\model_selection\\_search.py:1392\u001b[0m, in \u001b[0;36mGridSearchCV._run_search\u001b[1;34m(self, evaluate_candidates)\u001b[0m\n\u001b[0;32m   1390\u001b[0m \u001b[38;5;28;01mdef\u001b[39;00m \u001b[38;5;21m_run_search\u001b[39m(\u001b[38;5;28mself\u001b[39m, evaluate_candidates):\n\u001b[0;32m   1391\u001b[0m     \u001b[38;5;124;03m\"\"\"Search all candidates in param_grid\"\"\"\u001b[39;00m\n\u001b[1;32m-> 1392\u001b[0m     \u001b[43mevaluate_candidates\u001b[49m\u001b[43m(\u001b[49m\u001b[43mParameterGrid\u001b[49m\u001b[43m(\u001b[49m\u001b[38;5;28;43mself\u001b[39;49m\u001b[38;5;241;43m.\u001b[39;49m\u001b[43mparam_grid\u001b[49m\u001b[43m)\u001b[49m\u001b[43m)\u001b[49m\n",
      "File \u001b[1;32m~\\anaconda3\\envs\\dsc80\\lib\\site-packages\\sklearn\\model_selection\\_search.py:838\u001b[0m, in \u001b[0;36mBaseSearchCV.fit.<locals>.evaluate_candidates\u001b[1;34m(candidate_params, cv, more_results)\u001b[0m\n\u001b[0;32m    830\u001b[0m \u001b[38;5;28;01mif\u001b[39;00m \u001b[38;5;28mself\u001b[39m\u001b[38;5;241m.\u001b[39mverbose \u001b[38;5;241m>\u001b[39m \u001b[38;5;241m0\u001b[39m:\n\u001b[0;32m    831\u001b[0m     \u001b[38;5;28mprint\u001b[39m(\n\u001b[0;32m    832\u001b[0m         \u001b[38;5;124m\"\u001b[39m\u001b[38;5;124mFitting \u001b[39m\u001b[38;5;132;01m{0}\u001b[39;00m\u001b[38;5;124m folds for each of \u001b[39m\u001b[38;5;132;01m{1}\u001b[39;00m\u001b[38;5;124m candidates,\u001b[39m\u001b[38;5;124m\"\u001b[39m\n\u001b[0;32m    833\u001b[0m         \u001b[38;5;124m\"\u001b[39m\u001b[38;5;124m totalling \u001b[39m\u001b[38;5;132;01m{2}\u001b[39;00m\u001b[38;5;124m fits\u001b[39m\u001b[38;5;124m\"\u001b[39m\u001b[38;5;241m.\u001b[39mformat(\n\u001b[0;32m    834\u001b[0m             n_splits, n_candidates, n_candidates \u001b[38;5;241m*\u001b[39m n_splits\n\u001b[0;32m    835\u001b[0m         )\n\u001b[0;32m    836\u001b[0m     )\n\u001b[1;32m--> 838\u001b[0m out \u001b[38;5;241m=\u001b[39m \u001b[43mparallel\u001b[49m\u001b[43m(\u001b[49m\n\u001b[0;32m    839\u001b[0m \u001b[43m    \u001b[49m\u001b[43mdelayed\u001b[49m\u001b[43m(\u001b[49m\u001b[43m_fit_and_score\u001b[49m\u001b[43m)\u001b[49m\u001b[43m(\u001b[49m\n\u001b[0;32m    840\u001b[0m \u001b[43m        \u001b[49m\u001b[43mclone\u001b[49m\u001b[43m(\u001b[49m\u001b[43mbase_estimator\u001b[49m\u001b[43m)\u001b[49m\u001b[43m,\u001b[49m\n\u001b[0;32m    841\u001b[0m \u001b[43m        \u001b[49m\u001b[43mX\u001b[49m\u001b[43m,\u001b[49m\n\u001b[0;32m    842\u001b[0m \u001b[43m        \u001b[49m\u001b[43my\u001b[49m\u001b[43m,\u001b[49m\n\u001b[0;32m    843\u001b[0m \u001b[43m        \u001b[49m\u001b[43mtrain\u001b[49m\u001b[38;5;241;43m=\u001b[39;49m\u001b[43mtrain\u001b[49m\u001b[43m,\u001b[49m\n\u001b[0;32m    844\u001b[0m \u001b[43m        \u001b[49m\u001b[43mtest\u001b[49m\u001b[38;5;241;43m=\u001b[39;49m\u001b[43mtest\u001b[49m\u001b[43m,\u001b[49m\n\u001b[0;32m    845\u001b[0m \u001b[43m        \u001b[49m\u001b[43mparameters\u001b[49m\u001b[38;5;241;43m=\u001b[39;49m\u001b[43mparameters\u001b[49m\u001b[43m,\u001b[49m\n\u001b[0;32m    846\u001b[0m \u001b[43m        \u001b[49m\u001b[43msplit_progress\u001b[49m\u001b[38;5;241;43m=\u001b[39;49m\u001b[43m(\u001b[49m\u001b[43msplit_idx\u001b[49m\u001b[43m,\u001b[49m\u001b[43m \u001b[49m\u001b[43mn_splits\u001b[49m\u001b[43m)\u001b[49m\u001b[43m,\u001b[49m\n\u001b[0;32m    847\u001b[0m \u001b[43m        \u001b[49m\u001b[43mcandidate_progress\u001b[49m\u001b[38;5;241;43m=\u001b[39;49m\u001b[43m(\u001b[49m\u001b[43mcand_idx\u001b[49m\u001b[43m,\u001b[49m\u001b[43m \u001b[49m\u001b[43mn_candidates\u001b[49m\u001b[43m)\u001b[49m\u001b[43m,\u001b[49m\n\u001b[0;32m    848\u001b[0m \u001b[43m        \u001b[49m\u001b[38;5;241;43m*\u001b[39;49m\u001b[38;5;241;43m*\u001b[39;49m\u001b[43mfit_and_score_kwargs\u001b[49m\u001b[43m,\u001b[49m\n\u001b[0;32m    849\u001b[0m \u001b[43m    \u001b[49m\u001b[43m)\u001b[49m\n\u001b[0;32m    850\u001b[0m \u001b[43m    \u001b[49m\u001b[38;5;28;43;01mfor\u001b[39;49;00m\u001b[43m \u001b[49m\u001b[43m(\u001b[49m\u001b[43mcand_idx\u001b[49m\u001b[43m,\u001b[49m\u001b[43m \u001b[49m\u001b[43mparameters\u001b[49m\u001b[43m)\u001b[49m\u001b[43m,\u001b[49m\u001b[43m \u001b[49m\u001b[43m(\u001b[49m\u001b[43msplit_idx\u001b[49m\u001b[43m,\u001b[49m\u001b[43m \u001b[49m\u001b[43m(\u001b[49m\u001b[43mtrain\u001b[49m\u001b[43m,\u001b[49m\u001b[43m \u001b[49m\u001b[43mtest\u001b[49m\u001b[43m)\u001b[49m\u001b[43m)\u001b[49m\u001b[43m \u001b[49m\u001b[38;5;129;43;01min\u001b[39;49;00m\u001b[43m \u001b[49m\u001b[43mproduct\u001b[49m\u001b[43m(\u001b[49m\n\u001b[0;32m    851\u001b[0m \u001b[43m        \u001b[49m\u001b[38;5;28;43menumerate\u001b[39;49m\u001b[43m(\u001b[49m\u001b[43mcandidate_params\u001b[49m\u001b[43m)\u001b[49m\u001b[43m,\u001b[49m\u001b[43m \u001b[49m\u001b[38;5;28;43menumerate\u001b[39;49m\u001b[43m(\u001b[49m\u001b[43mcv\u001b[49m\u001b[38;5;241;43m.\u001b[39;49m\u001b[43msplit\u001b[49m\u001b[43m(\u001b[49m\u001b[43mX\u001b[49m\u001b[43m,\u001b[49m\u001b[43m \u001b[49m\u001b[43my\u001b[49m\u001b[43m,\u001b[49m\u001b[43m \u001b[49m\u001b[43mgroups\u001b[49m\u001b[43m)\u001b[49m\u001b[43m)\u001b[49m\n\u001b[0;32m    852\u001b[0m \u001b[43m    \u001b[49m\u001b[43m)\u001b[49m\n\u001b[0;32m    853\u001b[0m \u001b[43m\u001b[49m\u001b[43m)\u001b[49m\n\u001b[0;32m    855\u001b[0m \u001b[38;5;28;01mif\u001b[39;00m \u001b[38;5;28mlen\u001b[39m(out) \u001b[38;5;241m<\u001b[39m \u001b[38;5;241m1\u001b[39m:\n\u001b[0;32m    856\u001b[0m     \u001b[38;5;28;01mraise\u001b[39;00m \u001b[38;5;167;01mValueError\u001b[39;00m(\n\u001b[0;32m    857\u001b[0m         \u001b[38;5;124m\"\u001b[39m\u001b[38;5;124mNo fits were performed. \u001b[39m\u001b[38;5;124m\"\u001b[39m\n\u001b[0;32m    858\u001b[0m         \u001b[38;5;124m\"\u001b[39m\u001b[38;5;124mWas the CV iterator empty? \u001b[39m\u001b[38;5;124m\"\u001b[39m\n\u001b[0;32m    859\u001b[0m         \u001b[38;5;124m\"\u001b[39m\u001b[38;5;124mWere there no candidates?\u001b[39m\u001b[38;5;124m\"\u001b[39m\n\u001b[0;32m    860\u001b[0m     )\n",
      "File \u001b[1;32m~\\anaconda3\\envs\\dsc80\\lib\\site-packages\\joblib\\parallel.py:1046\u001b[0m, in \u001b[0;36mParallel.__call__\u001b[1;34m(self, iterable)\u001b[0m\n\u001b[0;32m   1043\u001b[0m \u001b[38;5;28;01mif\u001b[39;00m \u001b[38;5;28mself\u001b[39m\u001b[38;5;241m.\u001b[39mdispatch_one_batch(iterator):\n\u001b[0;32m   1044\u001b[0m     \u001b[38;5;28mself\u001b[39m\u001b[38;5;241m.\u001b[39m_iterating \u001b[38;5;241m=\u001b[39m \u001b[38;5;28mself\u001b[39m\u001b[38;5;241m.\u001b[39m_original_iterator \u001b[38;5;129;01mis\u001b[39;00m \u001b[38;5;129;01mnot\u001b[39;00m \u001b[38;5;28;01mNone\u001b[39;00m\n\u001b[1;32m-> 1046\u001b[0m \u001b[38;5;28;01mwhile\u001b[39;00m \u001b[38;5;28;43mself\u001b[39;49m\u001b[38;5;241;43m.\u001b[39;49m\u001b[43mdispatch_one_batch\u001b[49m\u001b[43m(\u001b[49m\u001b[43miterator\u001b[49m\u001b[43m)\u001b[49m:\n\u001b[0;32m   1047\u001b[0m     \u001b[38;5;28;01mpass\u001b[39;00m\n\u001b[0;32m   1049\u001b[0m \u001b[38;5;28;01mif\u001b[39;00m pre_dispatch \u001b[38;5;241m==\u001b[39m \u001b[38;5;124m\"\u001b[39m\u001b[38;5;124mall\u001b[39m\u001b[38;5;124m\"\u001b[39m \u001b[38;5;129;01mor\u001b[39;00m n_jobs \u001b[38;5;241m==\u001b[39m \u001b[38;5;241m1\u001b[39m:\n\u001b[0;32m   1050\u001b[0m     \u001b[38;5;66;03m# The iterable was consumed all at once by the above for loop.\u001b[39;00m\n\u001b[0;32m   1051\u001b[0m     \u001b[38;5;66;03m# No need to wait for async callbacks to trigger to\u001b[39;00m\n\u001b[0;32m   1052\u001b[0m     \u001b[38;5;66;03m# consumption.\u001b[39;00m\n",
      "File \u001b[1;32m~\\anaconda3\\envs\\dsc80\\lib\\site-packages\\joblib\\parallel.py:861\u001b[0m, in \u001b[0;36mParallel.dispatch_one_batch\u001b[1;34m(self, iterator)\u001b[0m\n\u001b[0;32m    859\u001b[0m     \u001b[38;5;28;01mreturn\u001b[39;00m \u001b[38;5;28;01mFalse\u001b[39;00m\n\u001b[0;32m    860\u001b[0m \u001b[38;5;28;01melse\u001b[39;00m:\n\u001b[1;32m--> 861\u001b[0m     \u001b[38;5;28;43mself\u001b[39;49m\u001b[38;5;241;43m.\u001b[39;49m\u001b[43m_dispatch\u001b[49m\u001b[43m(\u001b[49m\u001b[43mtasks\u001b[49m\u001b[43m)\u001b[49m\n\u001b[0;32m    862\u001b[0m     \u001b[38;5;28;01mreturn\u001b[39;00m \u001b[38;5;28;01mTrue\u001b[39;00m\n",
      "File \u001b[1;32m~\\anaconda3\\envs\\dsc80\\lib\\site-packages\\joblib\\parallel.py:779\u001b[0m, in \u001b[0;36mParallel._dispatch\u001b[1;34m(self, batch)\u001b[0m\n\u001b[0;32m    777\u001b[0m \u001b[38;5;28;01mwith\u001b[39;00m \u001b[38;5;28mself\u001b[39m\u001b[38;5;241m.\u001b[39m_lock:\n\u001b[0;32m    778\u001b[0m     job_idx \u001b[38;5;241m=\u001b[39m \u001b[38;5;28mlen\u001b[39m(\u001b[38;5;28mself\u001b[39m\u001b[38;5;241m.\u001b[39m_jobs)\n\u001b[1;32m--> 779\u001b[0m     job \u001b[38;5;241m=\u001b[39m \u001b[38;5;28;43mself\u001b[39;49m\u001b[38;5;241;43m.\u001b[39;49m\u001b[43m_backend\u001b[49m\u001b[38;5;241;43m.\u001b[39;49m\u001b[43mapply_async\u001b[49m\u001b[43m(\u001b[49m\u001b[43mbatch\u001b[49m\u001b[43m,\u001b[49m\u001b[43m \u001b[49m\u001b[43mcallback\u001b[49m\u001b[38;5;241;43m=\u001b[39;49m\u001b[43mcb\u001b[49m\u001b[43m)\u001b[49m\n\u001b[0;32m    780\u001b[0m     \u001b[38;5;66;03m# A job can complete so quickly than its callback is\u001b[39;00m\n\u001b[0;32m    781\u001b[0m     \u001b[38;5;66;03m# called before we get here, causing self._jobs to\u001b[39;00m\n\u001b[0;32m    782\u001b[0m     \u001b[38;5;66;03m# grow. To ensure correct results ordering, .insert is\u001b[39;00m\n\u001b[0;32m    783\u001b[0m     \u001b[38;5;66;03m# used (rather than .append) in the following line\u001b[39;00m\n\u001b[0;32m    784\u001b[0m     \u001b[38;5;28mself\u001b[39m\u001b[38;5;241m.\u001b[39m_jobs\u001b[38;5;241m.\u001b[39minsert(job_idx, job)\n",
      "File \u001b[1;32m~\\anaconda3\\envs\\dsc80\\lib\\site-packages\\joblib\\_parallel_backends.py:208\u001b[0m, in \u001b[0;36mSequentialBackend.apply_async\u001b[1;34m(self, func, callback)\u001b[0m\n\u001b[0;32m    206\u001b[0m \u001b[38;5;28;01mdef\u001b[39;00m \u001b[38;5;21mapply_async\u001b[39m(\u001b[38;5;28mself\u001b[39m, func, callback\u001b[38;5;241m=\u001b[39m\u001b[38;5;28;01mNone\u001b[39;00m):\n\u001b[0;32m    207\u001b[0m     \u001b[38;5;124;03m\"\"\"Schedule a func to be run\"\"\"\u001b[39;00m\n\u001b[1;32m--> 208\u001b[0m     result \u001b[38;5;241m=\u001b[39m \u001b[43mImmediateResult\u001b[49m\u001b[43m(\u001b[49m\u001b[43mfunc\u001b[49m\u001b[43m)\u001b[49m\n\u001b[0;32m    209\u001b[0m     \u001b[38;5;28;01mif\u001b[39;00m callback:\n\u001b[0;32m    210\u001b[0m         callback(result)\n",
      "File \u001b[1;32m~\\anaconda3\\envs\\dsc80\\lib\\site-packages\\joblib\\_parallel_backends.py:572\u001b[0m, in \u001b[0;36mImmediateResult.__init__\u001b[1;34m(self, batch)\u001b[0m\n\u001b[0;32m    569\u001b[0m \u001b[38;5;28;01mdef\u001b[39;00m \u001b[38;5;21m__init__\u001b[39m(\u001b[38;5;28mself\u001b[39m, batch):\n\u001b[0;32m    570\u001b[0m     \u001b[38;5;66;03m# Don't delay the application, to avoid keeping the input\u001b[39;00m\n\u001b[0;32m    571\u001b[0m     \u001b[38;5;66;03m# arguments in memory\u001b[39;00m\n\u001b[1;32m--> 572\u001b[0m     \u001b[38;5;28mself\u001b[39m\u001b[38;5;241m.\u001b[39mresults \u001b[38;5;241m=\u001b[39m \u001b[43mbatch\u001b[49m\u001b[43m(\u001b[49m\u001b[43m)\u001b[49m\n",
      "File \u001b[1;32m~\\anaconda3\\envs\\dsc80\\lib\\site-packages\\joblib\\parallel.py:262\u001b[0m, in \u001b[0;36mBatchedCalls.__call__\u001b[1;34m(self)\u001b[0m\n\u001b[0;32m    258\u001b[0m \u001b[38;5;28;01mdef\u001b[39;00m \u001b[38;5;21m__call__\u001b[39m(\u001b[38;5;28mself\u001b[39m):\n\u001b[0;32m    259\u001b[0m     \u001b[38;5;66;03m# Set the default nested backend to self._backend but do not set the\u001b[39;00m\n\u001b[0;32m    260\u001b[0m     \u001b[38;5;66;03m# change the default number of processes to -1\u001b[39;00m\n\u001b[0;32m    261\u001b[0m     \u001b[38;5;28;01mwith\u001b[39;00m parallel_backend(\u001b[38;5;28mself\u001b[39m\u001b[38;5;241m.\u001b[39m_backend, n_jobs\u001b[38;5;241m=\u001b[39m\u001b[38;5;28mself\u001b[39m\u001b[38;5;241m.\u001b[39m_n_jobs):\n\u001b[1;32m--> 262\u001b[0m         \u001b[38;5;28;01mreturn\u001b[39;00m [func(\u001b[38;5;241m*\u001b[39margs, \u001b[38;5;241m*\u001b[39m\u001b[38;5;241m*\u001b[39mkwargs)\n\u001b[0;32m    263\u001b[0m                 \u001b[38;5;28;01mfor\u001b[39;00m func, args, kwargs \u001b[38;5;129;01min\u001b[39;00m \u001b[38;5;28mself\u001b[39m\u001b[38;5;241m.\u001b[39mitems]\n",
      "File \u001b[1;32m~\\anaconda3\\envs\\dsc80\\lib\\site-packages\\joblib\\parallel.py:262\u001b[0m, in \u001b[0;36m<listcomp>\u001b[1;34m(.0)\u001b[0m\n\u001b[0;32m    258\u001b[0m \u001b[38;5;28;01mdef\u001b[39;00m \u001b[38;5;21m__call__\u001b[39m(\u001b[38;5;28mself\u001b[39m):\n\u001b[0;32m    259\u001b[0m     \u001b[38;5;66;03m# Set the default nested backend to self._backend but do not set the\u001b[39;00m\n\u001b[0;32m    260\u001b[0m     \u001b[38;5;66;03m# change the default number of processes to -1\u001b[39;00m\n\u001b[0;32m    261\u001b[0m     \u001b[38;5;28;01mwith\u001b[39;00m parallel_backend(\u001b[38;5;28mself\u001b[39m\u001b[38;5;241m.\u001b[39m_backend, n_jobs\u001b[38;5;241m=\u001b[39m\u001b[38;5;28mself\u001b[39m\u001b[38;5;241m.\u001b[39m_n_jobs):\n\u001b[1;32m--> 262\u001b[0m         \u001b[38;5;28;01mreturn\u001b[39;00m [\u001b[43mfunc\u001b[49m\u001b[43m(\u001b[49m\u001b[38;5;241;43m*\u001b[39;49m\u001b[43margs\u001b[49m\u001b[43m,\u001b[49m\u001b[43m \u001b[49m\u001b[38;5;241;43m*\u001b[39;49m\u001b[38;5;241;43m*\u001b[39;49m\u001b[43mkwargs\u001b[49m\u001b[43m)\u001b[49m\n\u001b[0;32m    263\u001b[0m                 \u001b[38;5;28;01mfor\u001b[39;00m func, args, kwargs \u001b[38;5;129;01min\u001b[39;00m \u001b[38;5;28mself\u001b[39m\u001b[38;5;241m.\u001b[39mitems]\n",
      "File \u001b[1;32m~\\anaconda3\\envs\\dsc80\\lib\\site-packages\\sklearn\\utils\\fixes.py:209\u001b[0m, in \u001b[0;36m_FuncWrapper.__call__\u001b[1;34m(self, *args, **kwargs)\u001b[0m\n\u001b[0;32m    207\u001b[0m \u001b[38;5;28;01mdef\u001b[39;00m \u001b[38;5;21m__call__\u001b[39m(\u001b[38;5;28mself\u001b[39m, \u001b[38;5;241m*\u001b[39margs, \u001b[38;5;241m*\u001b[39m\u001b[38;5;241m*\u001b[39mkwargs):\n\u001b[0;32m    208\u001b[0m     \u001b[38;5;28;01mwith\u001b[39;00m config_context(\u001b[38;5;241m*\u001b[39m\u001b[38;5;241m*\u001b[39m\u001b[38;5;28mself\u001b[39m\u001b[38;5;241m.\u001b[39mconfig):\n\u001b[1;32m--> 209\u001b[0m         \u001b[38;5;28;01mreturn\u001b[39;00m \u001b[38;5;28;43mself\u001b[39;49m\u001b[38;5;241;43m.\u001b[39;49m\u001b[43mfunction\u001b[49m\u001b[43m(\u001b[49m\u001b[38;5;241;43m*\u001b[39;49m\u001b[43margs\u001b[49m\u001b[43m,\u001b[49m\u001b[43m \u001b[49m\u001b[38;5;241;43m*\u001b[39;49m\u001b[38;5;241;43m*\u001b[39;49m\u001b[43mkwargs\u001b[49m\u001b[43m)\u001b[49m\n",
      "File \u001b[1;32m~\\anaconda3\\envs\\dsc80\\lib\\site-packages\\sklearn\\model_selection\\_validation.py:681\u001b[0m, in \u001b[0;36m_fit_and_score\u001b[1;34m(estimator, X, y, scorer, train, test, verbose, parameters, fit_params, return_train_score, return_parameters, return_n_test_samples, return_times, return_estimator, split_progress, candidate_progress, error_score)\u001b[0m\n\u001b[0;32m    679\u001b[0m         estimator\u001b[38;5;241m.\u001b[39mfit(X_train, \u001b[38;5;241m*\u001b[39m\u001b[38;5;241m*\u001b[39mfit_params)\n\u001b[0;32m    680\u001b[0m     \u001b[38;5;28;01melse\u001b[39;00m:\n\u001b[1;32m--> 681\u001b[0m         \u001b[43mestimator\u001b[49m\u001b[38;5;241;43m.\u001b[39;49m\u001b[43mfit\u001b[49m\u001b[43m(\u001b[49m\u001b[43mX_train\u001b[49m\u001b[43m,\u001b[49m\u001b[43m \u001b[49m\u001b[43my_train\u001b[49m\u001b[43m,\u001b[49m\u001b[43m \u001b[49m\u001b[38;5;241;43m*\u001b[39;49m\u001b[38;5;241;43m*\u001b[39;49m\u001b[43mfit_params\u001b[49m\u001b[43m)\u001b[49m\n\u001b[0;32m    683\u001b[0m \u001b[38;5;28;01mexcept\u001b[39;00m \u001b[38;5;167;01mException\u001b[39;00m:\n\u001b[0;32m    684\u001b[0m     \u001b[38;5;66;03m# Note fit time as time until error\u001b[39;00m\n\u001b[0;32m    685\u001b[0m     fit_time \u001b[38;5;241m=\u001b[39m time\u001b[38;5;241m.\u001b[39mtime() \u001b[38;5;241m-\u001b[39m start_time\n",
      "File \u001b[1;32m~\\anaconda3\\envs\\dsc80\\lib\\site-packages\\sklearn\\pipeline.py:394\u001b[0m, in \u001b[0;36mPipeline.fit\u001b[1;34m(self, X, y, **fit_params)\u001b[0m\n\u001b[0;32m    392\u001b[0m     \u001b[38;5;28;01mif\u001b[39;00m \u001b[38;5;28mself\u001b[39m\u001b[38;5;241m.\u001b[39m_final_estimator \u001b[38;5;241m!=\u001b[39m \u001b[38;5;124m\"\u001b[39m\u001b[38;5;124mpassthrough\u001b[39m\u001b[38;5;124m\"\u001b[39m:\n\u001b[0;32m    393\u001b[0m         fit_params_last_step \u001b[38;5;241m=\u001b[39m fit_params_steps[\u001b[38;5;28mself\u001b[39m\u001b[38;5;241m.\u001b[39msteps[\u001b[38;5;241m-\u001b[39m\u001b[38;5;241m1\u001b[39m][\u001b[38;5;241m0\u001b[39m]]\n\u001b[1;32m--> 394\u001b[0m         \u001b[38;5;28;43mself\u001b[39;49m\u001b[38;5;241;43m.\u001b[39;49m\u001b[43m_final_estimator\u001b[49m\u001b[38;5;241;43m.\u001b[39;49m\u001b[43mfit\u001b[49m\u001b[43m(\u001b[49m\u001b[43mXt\u001b[49m\u001b[43m,\u001b[49m\u001b[43m \u001b[49m\u001b[43my\u001b[49m\u001b[43m,\u001b[49m\u001b[43m \u001b[49m\u001b[38;5;241;43m*\u001b[39;49m\u001b[38;5;241;43m*\u001b[39;49m\u001b[43mfit_params_last_step\u001b[49m\u001b[43m)\u001b[49m\n\u001b[0;32m    396\u001b[0m \u001b[38;5;28;01mreturn\u001b[39;00m \u001b[38;5;28mself\u001b[39m\n",
      "File \u001b[1;32m~\\anaconda3\\envs\\dsc80\\lib\\site-packages\\sklearn\\ensemble\\_forest.py:441\u001b[0m, in \u001b[0;36mBaseForest.fit\u001b[1;34m(self, X, y, sample_weight)\u001b[0m\n\u001b[0;32m    430\u001b[0m trees \u001b[38;5;241m=\u001b[39m [\n\u001b[0;32m    431\u001b[0m     \u001b[38;5;28mself\u001b[39m\u001b[38;5;241m.\u001b[39m_make_estimator(append\u001b[38;5;241m=\u001b[39m\u001b[38;5;28;01mFalse\u001b[39;00m, random_state\u001b[38;5;241m=\u001b[39mrandom_state)\n\u001b[0;32m    432\u001b[0m     \u001b[38;5;28;01mfor\u001b[39;00m i \u001b[38;5;129;01min\u001b[39;00m \u001b[38;5;28mrange\u001b[39m(n_more_estimators)\n\u001b[0;32m    433\u001b[0m ]\n\u001b[0;32m    435\u001b[0m \u001b[38;5;66;03m# Parallel loop: we prefer the threading backend as the Cython code\u001b[39;00m\n\u001b[0;32m    436\u001b[0m \u001b[38;5;66;03m# for fitting the trees is internally releasing the Python GIL\u001b[39;00m\n\u001b[0;32m    437\u001b[0m \u001b[38;5;66;03m# making threading more efficient than multiprocessing in\u001b[39;00m\n\u001b[0;32m    438\u001b[0m \u001b[38;5;66;03m# that case. However, for joblib 0.12+ we respect any\u001b[39;00m\n\u001b[0;32m    439\u001b[0m \u001b[38;5;66;03m# parallel_backend contexts set at a higher level,\u001b[39;00m\n\u001b[0;32m    440\u001b[0m \u001b[38;5;66;03m# since correctness does not rely on using threads.\u001b[39;00m\n\u001b[1;32m--> 441\u001b[0m trees \u001b[38;5;241m=\u001b[39m \u001b[43mParallel\u001b[49m\u001b[43m(\u001b[49m\n\u001b[0;32m    442\u001b[0m \u001b[43m    \u001b[49m\u001b[43mn_jobs\u001b[49m\u001b[38;5;241;43m=\u001b[39;49m\u001b[38;5;28;43mself\u001b[39;49m\u001b[38;5;241;43m.\u001b[39;49m\u001b[43mn_jobs\u001b[49m\u001b[43m,\u001b[49m\n\u001b[0;32m    443\u001b[0m \u001b[43m    \u001b[49m\u001b[43mverbose\u001b[49m\u001b[38;5;241;43m=\u001b[39;49m\u001b[38;5;28;43mself\u001b[39;49m\u001b[38;5;241;43m.\u001b[39;49m\u001b[43mverbose\u001b[49m\u001b[43m,\u001b[49m\n\u001b[0;32m    444\u001b[0m \u001b[43m    \u001b[49m\u001b[38;5;241;43m*\u001b[39;49m\u001b[38;5;241;43m*\u001b[39;49m\u001b[43m_joblib_parallel_args\u001b[49m\u001b[43m(\u001b[49m\u001b[43mprefer\u001b[49m\u001b[38;5;241;43m=\u001b[39;49m\u001b[38;5;124;43m\"\u001b[39;49m\u001b[38;5;124;43mthreads\u001b[39;49m\u001b[38;5;124;43m\"\u001b[39;49m\u001b[43m)\u001b[49m\u001b[43m,\u001b[49m\n\u001b[0;32m    445\u001b[0m \u001b[43m\u001b[49m\u001b[43m)\u001b[49m\u001b[43m(\u001b[49m\n\u001b[0;32m    446\u001b[0m \u001b[43m    \u001b[49m\u001b[43mdelayed\u001b[49m\u001b[43m(\u001b[49m\u001b[43m_parallel_build_trees\u001b[49m\u001b[43m)\u001b[49m\u001b[43m(\u001b[49m\n\u001b[0;32m    447\u001b[0m \u001b[43m        \u001b[49m\u001b[43mt\u001b[49m\u001b[43m,\u001b[49m\n\u001b[0;32m    448\u001b[0m \u001b[43m        \u001b[49m\u001b[38;5;28;43mself\u001b[39;49m\u001b[43m,\u001b[49m\n\u001b[0;32m    449\u001b[0m \u001b[43m        \u001b[49m\u001b[43mX\u001b[49m\u001b[43m,\u001b[49m\n\u001b[0;32m    450\u001b[0m \u001b[43m        \u001b[49m\u001b[43my\u001b[49m\u001b[43m,\u001b[49m\n\u001b[0;32m    451\u001b[0m \u001b[43m        \u001b[49m\u001b[43msample_weight\u001b[49m\u001b[43m,\u001b[49m\n\u001b[0;32m    452\u001b[0m \u001b[43m        \u001b[49m\u001b[43mi\u001b[49m\u001b[43m,\u001b[49m\n\u001b[0;32m    453\u001b[0m \u001b[43m        \u001b[49m\u001b[38;5;28;43mlen\u001b[39;49m\u001b[43m(\u001b[49m\u001b[43mtrees\u001b[49m\u001b[43m)\u001b[49m\u001b[43m,\u001b[49m\n\u001b[0;32m    454\u001b[0m \u001b[43m        \u001b[49m\u001b[43mverbose\u001b[49m\u001b[38;5;241;43m=\u001b[39;49m\u001b[38;5;28;43mself\u001b[39;49m\u001b[38;5;241;43m.\u001b[39;49m\u001b[43mverbose\u001b[49m\u001b[43m,\u001b[49m\n\u001b[0;32m    455\u001b[0m \u001b[43m        \u001b[49m\u001b[43mclass_weight\u001b[49m\u001b[38;5;241;43m=\u001b[39;49m\u001b[38;5;28;43mself\u001b[39;49m\u001b[38;5;241;43m.\u001b[39;49m\u001b[43mclass_weight\u001b[49m\u001b[43m,\u001b[49m\n\u001b[0;32m    456\u001b[0m \u001b[43m        \u001b[49m\u001b[43mn_samples_bootstrap\u001b[49m\u001b[38;5;241;43m=\u001b[39;49m\u001b[43mn_samples_bootstrap\u001b[49m\u001b[43m,\u001b[49m\n\u001b[0;32m    457\u001b[0m \u001b[43m    \u001b[49m\u001b[43m)\u001b[49m\n\u001b[0;32m    458\u001b[0m \u001b[43m    \u001b[49m\u001b[38;5;28;43;01mfor\u001b[39;49;00m\u001b[43m \u001b[49m\u001b[43mi\u001b[49m\u001b[43m,\u001b[49m\u001b[43m \u001b[49m\u001b[43mt\u001b[49m\u001b[43m \u001b[49m\u001b[38;5;129;43;01min\u001b[39;49;00m\u001b[43m \u001b[49m\u001b[38;5;28;43menumerate\u001b[39;49m\u001b[43m(\u001b[49m\u001b[43mtrees\u001b[49m\u001b[43m)\u001b[49m\n\u001b[0;32m    459\u001b[0m \u001b[43m\u001b[49m\u001b[43m)\u001b[49m\n\u001b[0;32m    461\u001b[0m \u001b[38;5;66;03m# Collect newly grown trees\u001b[39;00m\n\u001b[0;32m    462\u001b[0m \u001b[38;5;28mself\u001b[39m\u001b[38;5;241m.\u001b[39mestimators_\u001b[38;5;241m.\u001b[39mextend(trees)\n",
      "File \u001b[1;32m~\\anaconda3\\envs\\dsc80\\lib\\site-packages\\joblib\\parallel.py:1046\u001b[0m, in \u001b[0;36mParallel.__call__\u001b[1;34m(self, iterable)\u001b[0m\n\u001b[0;32m   1043\u001b[0m \u001b[38;5;28;01mif\u001b[39;00m \u001b[38;5;28mself\u001b[39m\u001b[38;5;241m.\u001b[39mdispatch_one_batch(iterator):\n\u001b[0;32m   1044\u001b[0m     \u001b[38;5;28mself\u001b[39m\u001b[38;5;241m.\u001b[39m_iterating \u001b[38;5;241m=\u001b[39m \u001b[38;5;28mself\u001b[39m\u001b[38;5;241m.\u001b[39m_original_iterator \u001b[38;5;129;01mis\u001b[39;00m \u001b[38;5;129;01mnot\u001b[39;00m \u001b[38;5;28;01mNone\u001b[39;00m\n\u001b[1;32m-> 1046\u001b[0m \u001b[38;5;28;01mwhile\u001b[39;00m \u001b[38;5;28;43mself\u001b[39;49m\u001b[38;5;241;43m.\u001b[39;49m\u001b[43mdispatch_one_batch\u001b[49m\u001b[43m(\u001b[49m\u001b[43miterator\u001b[49m\u001b[43m)\u001b[49m:\n\u001b[0;32m   1047\u001b[0m     \u001b[38;5;28;01mpass\u001b[39;00m\n\u001b[0;32m   1049\u001b[0m \u001b[38;5;28;01mif\u001b[39;00m pre_dispatch \u001b[38;5;241m==\u001b[39m \u001b[38;5;124m\"\u001b[39m\u001b[38;5;124mall\u001b[39m\u001b[38;5;124m\"\u001b[39m \u001b[38;5;129;01mor\u001b[39;00m n_jobs \u001b[38;5;241m==\u001b[39m \u001b[38;5;241m1\u001b[39m:\n\u001b[0;32m   1050\u001b[0m     \u001b[38;5;66;03m# The iterable was consumed all at once by the above for loop.\u001b[39;00m\n\u001b[0;32m   1051\u001b[0m     \u001b[38;5;66;03m# No need to wait for async callbacks to trigger to\u001b[39;00m\n\u001b[0;32m   1052\u001b[0m     \u001b[38;5;66;03m# consumption.\u001b[39;00m\n",
      "File \u001b[1;32m~\\anaconda3\\envs\\dsc80\\lib\\site-packages\\joblib\\parallel.py:861\u001b[0m, in \u001b[0;36mParallel.dispatch_one_batch\u001b[1;34m(self, iterator)\u001b[0m\n\u001b[0;32m    859\u001b[0m     \u001b[38;5;28;01mreturn\u001b[39;00m \u001b[38;5;28;01mFalse\u001b[39;00m\n\u001b[0;32m    860\u001b[0m \u001b[38;5;28;01melse\u001b[39;00m:\n\u001b[1;32m--> 861\u001b[0m     \u001b[38;5;28;43mself\u001b[39;49m\u001b[38;5;241;43m.\u001b[39;49m\u001b[43m_dispatch\u001b[49m\u001b[43m(\u001b[49m\u001b[43mtasks\u001b[49m\u001b[43m)\u001b[49m\n\u001b[0;32m    862\u001b[0m     \u001b[38;5;28;01mreturn\u001b[39;00m \u001b[38;5;28;01mTrue\u001b[39;00m\n",
      "File \u001b[1;32m~\\anaconda3\\envs\\dsc80\\lib\\site-packages\\joblib\\parallel.py:779\u001b[0m, in \u001b[0;36mParallel._dispatch\u001b[1;34m(self, batch)\u001b[0m\n\u001b[0;32m    777\u001b[0m \u001b[38;5;28;01mwith\u001b[39;00m \u001b[38;5;28mself\u001b[39m\u001b[38;5;241m.\u001b[39m_lock:\n\u001b[0;32m    778\u001b[0m     job_idx \u001b[38;5;241m=\u001b[39m \u001b[38;5;28mlen\u001b[39m(\u001b[38;5;28mself\u001b[39m\u001b[38;5;241m.\u001b[39m_jobs)\n\u001b[1;32m--> 779\u001b[0m     job \u001b[38;5;241m=\u001b[39m \u001b[38;5;28;43mself\u001b[39;49m\u001b[38;5;241;43m.\u001b[39;49m\u001b[43m_backend\u001b[49m\u001b[38;5;241;43m.\u001b[39;49m\u001b[43mapply_async\u001b[49m\u001b[43m(\u001b[49m\u001b[43mbatch\u001b[49m\u001b[43m,\u001b[49m\u001b[43m \u001b[49m\u001b[43mcallback\u001b[49m\u001b[38;5;241;43m=\u001b[39;49m\u001b[43mcb\u001b[49m\u001b[43m)\u001b[49m\n\u001b[0;32m    780\u001b[0m     \u001b[38;5;66;03m# A job can complete so quickly than its callback is\u001b[39;00m\n\u001b[0;32m    781\u001b[0m     \u001b[38;5;66;03m# called before we get here, causing self._jobs to\u001b[39;00m\n\u001b[0;32m    782\u001b[0m     \u001b[38;5;66;03m# grow. To ensure correct results ordering, .insert is\u001b[39;00m\n\u001b[0;32m    783\u001b[0m     \u001b[38;5;66;03m# used (rather than .append) in the following line\u001b[39;00m\n\u001b[0;32m    784\u001b[0m     \u001b[38;5;28mself\u001b[39m\u001b[38;5;241m.\u001b[39m_jobs\u001b[38;5;241m.\u001b[39minsert(job_idx, job)\n",
      "File \u001b[1;32m~\\anaconda3\\envs\\dsc80\\lib\\site-packages\\joblib\\_parallel_backends.py:208\u001b[0m, in \u001b[0;36mSequentialBackend.apply_async\u001b[1;34m(self, func, callback)\u001b[0m\n\u001b[0;32m    206\u001b[0m \u001b[38;5;28;01mdef\u001b[39;00m \u001b[38;5;21mapply_async\u001b[39m(\u001b[38;5;28mself\u001b[39m, func, callback\u001b[38;5;241m=\u001b[39m\u001b[38;5;28;01mNone\u001b[39;00m):\n\u001b[0;32m    207\u001b[0m     \u001b[38;5;124;03m\"\"\"Schedule a func to be run\"\"\"\u001b[39;00m\n\u001b[1;32m--> 208\u001b[0m     result \u001b[38;5;241m=\u001b[39m \u001b[43mImmediateResult\u001b[49m\u001b[43m(\u001b[49m\u001b[43mfunc\u001b[49m\u001b[43m)\u001b[49m\n\u001b[0;32m    209\u001b[0m     \u001b[38;5;28;01mif\u001b[39;00m callback:\n\u001b[0;32m    210\u001b[0m         callback(result)\n",
      "File \u001b[1;32m~\\anaconda3\\envs\\dsc80\\lib\\site-packages\\joblib\\_parallel_backends.py:572\u001b[0m, in \u001b[0;36mImmediateResult.__init__\u001b[1;34m(self, batch)\u001b[0m\n\u001b[0;32m    569\u001b[0m \u001b[38;5;28;01mdef\u001b[39;00m \u001b[38;5;21m__init__\u001b[39m(\u001b[38;5;28mself\u001b[39m, batch):\n\u001b[0;32m    570\u001b[0m     \u001b[38;5;66;03m# Don't delay the application, to avoid keeping the input\u001b[39;00m\n\u001b[0;32m    571\u001b[0m     \u001b[38;5;66;03m# arguments in memory\u001b[39;00m\n\u001b[1;32m--> 572\u001b[0m     \u001b[38;5;28mself\u001b[39m\u001b[38;5;241m.\u001b[39mresults \u001b[38;5;241m=\u001b[39m \u001b[43mbatch\u001b[49m\u001b[43m(\u001b[49m\u001b[43m)\u001b[49m\n",
      "File \u001b[1;32m~\\anaconda3\\envs\\dsc80\\lib\\site-packages\\joblib\\parallel.py:262\u001b[0m, in \u001b[0;36mBatchedCalls.__call__\u001b[1;34m(self)\u001b[0m\n\u001b[0;32m    258\u001b[0m \u001b[38;5;28;01mdef\u001b[39;00m \u001b[38;5;21m__call__\u001b[39m(\u001b[38;5;28mself\u001b[39m):\n\u001b[0;32m    259\u001b[0m     \u001b[38;5;66;03m# Set the default nested backend to self._backend but do not set the\u001b[39;00m\n\u001b[0;32m    260\u001b[0m     \u001b[38;5;66;03m# change the default number of processes to -1\u001b[39;00m\n\u001b[0;32m    261\u001b[0m     \u001b[38;5;28;01mwith\u001b[39;00m parallel_backend(\u001b[38;5;28mself\u001b[39m\u001b[38;5;241m.\u001b[39m_backend, n_jobs\u001b[38;5;241m=\u001b[39m\u001b[38;5;28mself\u001b[39m\u001b[38;5;241m.\u001b[39m_n_jobs):\n\u001b[1;32m--> 262\u001b[0m         \u001b[38;5;28;01mreturn\u001b[39;00m [func(\u001b[38;5;241m*\u001b[39margs, \u001b[38;5;241m*\u001b[39m\u001b[38;5;241m*\u001b[39mkwargs)\n\u001b[0;32m    263\u001b[0m                 \u001b[38;5;28;01mfor\u001b[39;00m func, args, kwargs \u001b[38;5;129;01min\u001b[39;00m \u001b[38;5;28mself\u001b[39m\u001b[38;5;241m.\u001b[39mitems]\n",
      "File \u001b[1;32m~\\anaconda3\\envs\\dsc80\\lib\\site-packages\\joblib\\parallel.py:262\u001b[0m, in \u001b[0;36m<listcomp>\u001b[1;34m(.0)\u001b[0m\n\u001b[0;32m    258\u001b[0m \u001b[38;5;28;01mdef\u001b[39;00m \u001b[38;5;21m__call__\u001b[39m(\u001b[38;5;28mself\u001b[39m):\n\u001b[0;32m    259\u001b[0m     \u001b[38;5;66;03m# Set the default nested backend to self._backend but do not set the\u001b[39;00m\n\u001b[0;32m    260\u001b[0m     \u001b[38;5;66;03m# change the default number of processes to -1\u001b[39;00m\n\u001b[0;32m    261\u001b[0m     \u001b[38;5;28;01mwith\u001b[39;00m parallel_backend(\u001b[38;5;28mself\u001b[39m\u001b[38;5;241m.\u001b[39m_backend, n_jobs\u001b[38;5;241m=\u001b[39m\u001b[38;5;28mself\u001b[39m\u001b[38;5;241m.\u001b[39m_n_jobs):\n\u001b[1;32m--> 262\u001b[0m         \u001b[38;5;28;01mreturn\u001b[39;00m [\u001b[43mfunc\u001b[49m\u001b[43m(\u001b[49m\u001b[38;5;241;43m*\u001b[39;49m\u001b[43margs\u001b[49m\u001b[43m,\u001b[49m\u001b[43m \u001b[49m\u001b[38;5;241;43m*\u001b[39;49m\u001b[38;5;241;43m*\u001b[39;49m\u001b[43mkwargs\u001b[49m\u001b[43m)\u001b[49m\n\u001b[0;32m    263\u001b[0m                 \u001b[38;5;28;01mfor\u001b[39;00m func, args, kwargs \u001b[38;5;129;01min\u001b[39;00m \u001b[38;5;28mself\u001b[39m\u001b[38;5;241m.\u001b[39mitems]\n",
      "File \u001b[1;32m~\\anaconda3\\envs\\dsc80\\lib\\site-packages\\sklearn\\utils\\fixes.py:209\u001b[0m, in \u001b[0;36m_FuncWrapper.__call__\u001b[1;34m(self, *args, **kwargs)\u001b[0m\n\u001b[0;32m    207\u001b[0m \u001b[38;5;28;01mdef\u001b[39;00m \u001b[38;5;21m__call__\u001b[39m(\u001b[38;5;28mself\u001b[39m, \u001b[38;5;241m*\u001b[39margs, \u001b[38;5;241m*\u001b[39m\u001b[38;5;241m*\u001b[39mkwargs):\n\u001b[0;32m    208\u001b[0m     \u001b[38;5;28;01mwith\u001b[39;00m config_context(\u001b[38;5;241m*\u001b[39m\u001b[38;5;241m*\u001b[39m\u001b[38;5;28mself\u001b[39m\u001b[38;5;241m.\u001b[39mconfig):\n\u001b[1;32m--> 209\u001b[0m         \u001b[38;5;28;01mreturn\u001b[39;00m \u001b[38;5;28;43mself\u001b[39;49m\u001b[38;5;241;43m.\u001b[39;49m\u001b[43mfunction\u001b[49m\u001b[43m(\u001b[49m\u001b[38;5;241;43m*\u001b[39;49m\u001b[43margs\u001b[49m\u001b[43m,\u001b[49m\u001b[43m \u001b[49m\u001b[38;5;241;43m*\u001b[39;49m\u001b[38;5;241;43m*\u001b[39;49m\u001b[43mkwargs\u001b[49m\u001b[43m)\u001b[49m\n",
      "File \u001b[1;32m~\\anaconda3\\envs\\dsc80\\lib\\site-packages\\sklearn\\ensemble\\_forest.py:171\u001b[0m, in \u001b[0;36m_parallel_build_trees\u001b[1;34m(tree, forest, X, y, sample_weight, tree_idx, n_trees, verbose, class_weight, n_samples_bootstrap)\u001b[0m\n\u001b[0;32m    168\u001b[0m \u001b[38;5;28;01melse\u001b[39;00m:\n\u001b[0;32m    169\u001b[0m     curr_sample_weight \u001b[38;5;241m=\u001b[39m sample_weight\u001b[38;5;241m.\u001b[39mcopy()\n\u001b[1;32m--> 171\u001b[0m indices \u001b[38;5;241m=\u001b[39m \u001b[43m_generate_sample_indices\u001b[49m\u001b[43m(\u001b[49m\n\u001b[0;32m    172\u001b[0m \u001b[43m    \u001b[49m\u001b[43mtree\u001b[49m\u001b[38;5;241;43m.\u001b[39;49m\u001b[43mrandom_state\u001b[49m\u001b[43m,\u001b[49m\u001b[43m \u001b[49m\u001b[43mn_samples\u001b[49m\u001b[43m,\u001b[49m\u001b[43m \u001b[49m\u001b[43mn_samples_bootstrap\u001b[49m\n\u001b[0;32m    173\u001b[0m \u001b[43m\u001b[49m\u001b[43m)\u001b[49m\n\u001b[0;32m    174\u001b[0m sample_counts \u001b[38;5;241m=\u001b[39m np\u001b[38;5;241m.\u001b[39mbincount(indices, minlength\u001b[38;5;241m=\u001b[39mn_samples)\n\u001b[0;32m    175\u001b[0m curr_sample_weight \u001b[38;5;241m*\u001b[39m\u001b[38;5;241m=\u001b[39m sample_counts\n",
      "File \u001b[1;32m~\\anaconda3\\envs\\dsc80\\lib\\site-packages\\sklearn\\ensemble\\_forest.py:128\u001b[0m, in \u001b[0;36m_generate_sample_indices\u001b[1;34m(random_state, n_samples, n_samples_bootstrap)\u001b[0m\n\u001b[0;32m    124\u001b[0m \u001b[38;5;124;03m\"\"\"\u001b[39;00m\n\u001b[0;32m    125\u001b[0m \u001b[38;5;124;03mPrivate function used to _parallel_build_trees function.\"\"\"\u001b[39;00m\n\u001b[0;32m    127\u001b[0m random_instance \u001b[38;5;241m=\u001b[39m check_random_state(random_state)\n\u001b[1;32m--> 128\u001b[0m sample_indices \u001b[38;5;241m=\u001b[39m \u001b[43mrandom_instance\u001b[49m\u001b[38;5;241;43m.\u001b[39;49m\u001b[43mrandint\u001b[49m\u001b[43m(\u001b[49m\u001b[38;5;241;43m0\u001b[39;49m\u001b[43m,\u001b[49m\u001b[43m \u001b[49m\u001b[43mn_samples\u001b[49m\u001b[43m,\u001b[49m\u001b[43m \u001b[49m\u001b[43mn_samples_bootstrap\u001b[49m\u001b[43m)\u001b[49m\n\u001b[0;32m    130\u001b[0m \u001b[38;5;28;01mreturn\u001b[39;00m sample_indices\n",
      "\u001b[1;31mKeyboardInterrupt\u001b[0m: "
     ]
    }
   ],
   "source": [
    "# Grid Search for Random Forest\n",
    "#max depth, n_estimators, min_sample_split\n",
    "final_pl_3 = Pipeline([\n",
    "    ('preprocessor', preproc),\n",
    "    ('rf', RandomForestClassifier())\n",
    "])\n",
    "\n",
    "hyper_rf = {\n",
    "    'rf__max_depth': np.arange(2, 11, 1),\n",
    "    'rf__n_estimators': np.arange(10, 201, 10),\n",
    "    'rf__min_samples_split': np.arange(2, 31, 1)\n",
    "}\n",
    "model_3 = GridSearchCV(final_pl_3, param_grid = hyper_rf, scoring='accuracy', cv=5)\n",
    "model_3.fit(X_train, y_train)\n",
    "print(model_3.best_params_)\n",
    "model_3.score(X_train,y_train)"
   ]
  },
  {
   "cell_type": "code",
   "execution_count": 15,
   "id": "a8c00c58",
   "metadata": {},
   "outputs": [
    {
     "data": {
      "text/plain": [
       "<BarContainer object of 10 artists>"
      ]
     },
     "execution_count": 15,
     "metadata": {},
     "output_type": "execute_result"
    },
    {
     "data": {
      "image/png": "[encoded data removed]",
      "text/plain": [
       "<Figure size 432x288 with 1 Axes>"
      ]
     },
     "metadata": {
      "needs_background": "light"
     },
     "output_type": "display_data"
    }
   ],
   "source": [
    "# Gets the dates with the most transactions (instances)\n",
    "dates = merged['transaction_date'].value_counts().sort_values()[-10:]\n",
    "plt.barh(dates.index, dates.values, color=['#92A8D1'])"
   ]
  },
  {
   "cell_type": "code",
   "execution_count": 16,
   "id": "f3f018d4",
   "metadata": {},
   "outputs": [
    {
     "data": {
      "text/plain": [
       "<BarContainer object of 10 artists>"
      ]
     },
     "execution_count": 16,
     "metadata": {},
     "output_type": "execute_result"
    },
    {
     "data": {
      "image/png": "[encoded data removed]",
      "text/plain": [
       "<Figure size 432x288 with 1 Axes>"
      ]
     },
     "metadata": {
      "needs_background": "light"
     },
     "output_type": "display_data"
    }
   ],
   "source": [
    "# Gets the tickers that were traded the most\n",
    "tickers = merged['ticker'].value_counts().sort_values()[-10:]\n",
    "plt.barh(tickers.index, tickers.values, color = ['#92A8D1'])"
   ]
  },
  {
   "cell_type": "code",
   "execution_count": 17,
   "id": "72cf9710",
   "metadata": {},
   "outputs": [
    {
     "data": {
      "text/plain": [
       "<BarContainer object of 10 artists>"
      ]
     },
     "execution_count": 17,
     "metadata": {},
     "output_type": "execute_result"
    },
    {
     "data": {
      "image/png": "[encoded data removed]",
      "text/plain": [
       "<Figure size 432x288 with 1 Axes>"
      ]
     },
     "metadata": {
      "needs_background": "light"
     },
     "output_type": "display_data"
    }
   ],
   "source": [
    "# Gets the reps who made the most transactions\n",
    "reps = merged['index'].value_counts().sort_values()[-10:]\n",
    "plt.barh(reps.index, reps.values, color='#92A8D1')"
   ]
  },
  {
   "cell_type": "code",
   "execution_count": 18,
   "id": "0c6fe540",
   "metadata": {},
   "outputs": [
    {
     "data": {
      "text/plain": [
       "<AxesSubplot:ylabel='ticker'>"
      ]
     },
     "execution_count": 18,
     "metadata": {},
     "output_type": "execute_result"
    },
    {
     "data": {
      "image/png": "[encoded data removed]",
      "text/plain": [
       "<Figure size 432x288 with 1 Axes>"
      ]
     },
     "metadata": {
      "needs_background": "light"
     },
     "output_type": "display_data"
    }
   ],
   "source": [
    "split_ticker = merged[merged['ticker'].isin(tickers.index)].pivot_table(index='ticker', columns='is_democratic', aggfunc='count')['amount_cleaned'].plot(kind='barh', color=['#EC9787', '#92A8D1'])\n",
    "split_ticker"
   ]
  },
  {
   "cell_type": "code",
   "execution_count": 20,
   "id": "cd58a738",
   "metadata": {},
   "outputs": [],
   "source": [
    "# Run permutation test"
   ]
  },
  {
   "cell_type": "code",
   "execution_count": 21,
   "id": "923952d4",
   "metadata": {},
   "outputs": [
    {
     "data": {
      "text/plain": [
       "0.31420414740381647"
      ]
     },
     "execution_count": 21,
     "metadata": {},
     "output_type": "execute_result"
    }
   ],
   "source": [
    "to_shuffle = merged.copy()\n",
    "amounts_tvd = to_shuffle.pivot_table(index='amount_cleaned', columns='is_democratic', aggfunc='size')\n",
    "amounts_tvd = amounts_tvd / amounts_tvd.sum()\n",
    "amounts_tvd\n",
    "obs_tvd_pre = amounts_tvd.diff(axis=1).iloc[:, -1].abs().sum() / 2\n",
    "obs_tvd_pre"
   ]
  },
  {
   "cell_type": "code",
   "execution_count": 22,
   "id": "7ae032fe",
   "metadata": {},
   "outputs": [],
   "source": [
    "to_shuffle = merged.copy()\n",
    "tvds = []\n",
    "for _ in range(500):\n",
    "    to_shuffle['is_democratic'] = np.random.permutation(merged['is_democratic'])\n",
    "    pivoted = (\n",
    "        to_shuffle\n",
    "        .pivot_table(index='is_democratic', columns='amount_cleaned', aggfunc='size')\n",
    "        .apply(lambda x: x / x.sum(), axis=1)\n",
    "    )\n",
    "    tvd = pivoted.diff().iloc[:, -1].abs().sum() / 2\n",
    "    tvds.append(tvd)\n",
    "p_val_perm = (tvds >= obs_tvd_pre).mean()"
   ]
  },
  {
   "cell_type": "code",
   "execution_count": 23,
   "id": "c563b1d4",
   "metadata": {},
   "outputs": [
    {
     "data": {
      "text/plain": [
       "0.0"
      ]
     },
     "execution_count": 23,
     "metadata": {},
     "output_type": "execute_result"
    }
   ],
   "source": [
    "p_val_perm"
   ]
  },
  {
   "cell_type": "code",
   "execution_count": 24,
   "id": "bc596965",
   "metadata": {},
   "outputs": [
    {
     "data": {
      "text/plain": [
       "<matplotlib.lines.Line2D at 0x1eb76dbb2b0>"
      ]
     },
     "execution_count": 24,
     "metadata": {},
     "output_type": "execute_result"
    },
    {
     "data": {
      "image/png": "[encoded data removed]",
      "text/plain": [
       "<Figure size 432x288 with 1 Axes>"
      ]
     },
     "metadata": {
      "needs_background": "light"
     },
     "output_type": "display_data"
    }
   ],
   "source": [
    "pd.Series(tvds).plot(kind='hist', density=True, ec='w', bins=10, title=f'p-value: {p_val_perm}', label='Simulated TVDs')\n",
    "plt.axvline(x=obs_tvd_pre, color='red', linewidth=4, label='Observed TVD')"
   ]
  },
  {
   "cell_type": "code",
   "execution_count": 25,
   "id": "67bb4a73",
   "metadata": {},
   "outputs": [],
   "source": [
    "# Running permutation tests for missingness to find MAR"
   ]
  },
  {
   "cell_type": "code",
   "execution_count": null,
   "id": "5a711788",
   "metadata": {},
   "outputs": [],
   "source": [
    "obs_tvd = amount_dist.diff(axis=1).iloc[:, -1].abs().sum() / 2\n",
    "obs_tvd"
   ]
  },
  {
   "cell_type": "code",
   "execution_count": null,
   "id": "0263c6a4",
   "metadata": {},
   "outputs": [],
   "source": [
    "pd.Series(tvds_amount).plot(kind='hist', density=True, ec='w', bins=10, title=f'p-value: {pval}', label='Simulated TVDs')\n",
    "plt.axvline(x=obs_tvd, color='red', linewidth=4, label='Observed TVD')\n",
    "plt.legend();"
   ]
  },
  {
   "cell_type": "code",
   "execution_count": null,
   "id": "5029211f",
   "metadata": {},
   "outputs": [],
   "source": [
    "# Given that you are democratic or not, what is the probability that you have a trade that has capital gains of over 200 USD?\n",
    "merged.pivot_table(index='is_democratic', columns='cap_gains_over_200_usd', aggfunc='size').apply(lambda x: x / x.sum()).plot(kind='bar', color=['#EC9787', '#92A8D1'])"
   ]
  },
  {
   "cell_type": "code",
   "execution_count": null,
   "id": "0679952d",
   "metadata": {},
   "outputs": [],
   "source": [
    "merged.pivot_table(columns='cap_gains_over_200_usd', index = 'amount_cleaned', aggfunc ='size').apply(lambda x: x / x.sum()).plot(kind='barh', color=['#EC9787', '#92A8D1'])"
   ]
  },
  {
   "cell_type": "code",
   "execution_count": null,
   "id": "468aa086",
   "metadata": {},
   "outputs": [],
   "source": [
    "merged.pivot_table(index='is_democratic', columns='amount_cleaned', aggfunc='size').apply(lambda x: x / x.sum()).plot(kind='bar')\n",
    "plt.legend(fontsize=8.75, loc=\"center left\", bbox_to_anchor=(1.04,0.5))"
   ]
  },
  {
   "cell_type": "code",
   "execution_count": null,
   "id": "5332d47a",
   "metadata": {},
   "outputs": [],
   "source": [
    "merged.groupby('is_democratic').count()"
   ]
  },
  {
   "cell_type": "code",
   "execution_count": null,
   "id": "3688d384",
   "metadata": {},
   "outputs": [],
   "source": [
    "tvds_type = []\n",
    "for i in range(500):\n",
    "    test['type'] = np.random.permutation(test['type'])\n",
    "    pivoted_amount = (\n",
    "        test\n",
    "        .pivot_table(index='owner_missing', columns='type', aggfunc='size')\n",
    "        .apply(lambda x: x / x.sum(), axis=1)\n",
    "    )\n",
    "    \n",
    "    tvd = pivoted_amount.diff().iloc[:, -1].abs().sum() / 2\n",
    "    tvds_type.append(tvd)\n",
    "p_val_type = (tvds_type >= obs_tvd_type).mean()\n",
    "p_val_type"
   ]
  },
  {
   "cell_type": "code",
   "execution_count": null,
   "id": "6dcd5003",
   "metadata": {},
   "outputs": [],
   "source": [
    "test = merged.copy()\n",
    "test['owner_missing'] = test['owner'].isna()\n",
    "type_dist = test.pivot_table(index='type', columns='owner_missing',aggfunc = 'size')\n",
    "type_dist = type_dist / type_dist.sum()\n",
    "type_dist.plot(kind='barh')\n",
    "type_dist\n",
    "obs_tvd_type = type_dist.diff(axis=1).iloc[:, -1].abs().sum() / 2\n",
    "obs_tvd_type"
   ]
  },
  {
   "cell_type": "code",
   "execution_count": null,
   "id": "008a3679",
   "metadata": {},
   "outputs": [],
   "source": [
    "pd.Series(tvds_type).plot(kind='hist', density=True, ec='w', bins=10, title=f'p-value: {p_val_type}', label='Simulated TVDs')\n",
    "plt.axvline(x=obs_tvd_type, color='red', linewidth=4, label='Observed TVD')\n",
    "plt.legend();"
   ]
  },
  {
   "cell_type": "code",
   "execution_count": null,
   "id": "5679dbe6",
   "metadata": {},
   "outputs": [],
   "source": [
    "test = merged.copy()\n",
    "test['owner_missing'] = test['owner'].isna()\n",
    "party_dist = test.pivot_table(index='current_party', columns='owner_missing',aggfunc = 'size')\n",
    "party_dist = party_dist / party_dist.sum()\n",
    "party_dist.plot(kind='barh')\n",
    "party_dist\n",
    "obs_tvd_party = party_dist.diff(axis=1).iloc[:, -1].abs().sum() / 2\n",
    "obs_tvd_party"
   ]
  },
  {
   "cell_type": "code",
   "execution_count": null,
   "id": "2d91381e",
   "metadata": {},
   "outputs": [],
   "source": [
    "tvds_party = []\n",
    "for i in range(500):\n",
    "    test['current_party'] = np.random.permutation(test['current_party'])\n",
    "    pivoted_party = (\n",
    "        test\n",
    "        .pivot_table(index='owner_missing', columns='current_party', aggfunc='size')\n",
    "        .apply(lambda x: x / x.sum(), axis=1)\n",
    "    )\n",
    "    \n",
    "    tvd = pivoted_party.diff().iloc[:, -1].abs().sum() / 2\n",
    "    tvds_party.append(tvd)\n",
    "p_val_party = (tvds_party >= obs_tvd_party).mean()\n",
    "p_val_party"
   ]
  },
  {
   "cell_type": "code",
   "execution_count": null,
   "id": "fc108dfb",
   "metadata": {},
   "outputs": [],
   "source": [
    "obs_tvd_party"
   ]
  },
  {
   "cell_type": "code",
   "execution_count": null,
   "id": "a8584843",
   "metadata": {},
   "outputs": [],
   "source": [
    "pd.Series(tvds_party).plot(kind='hist', density=True, ec='w', bins=10, title=f'p-value: {p_val_party}', label='Simulated TVDs')\n",
    "plt.axvline(x=obs_tvd_party, color='red', linewidth=4, label='Observed TVD')\n",
    "plt.legend();"
   ]
  },
  {
   "cell_type": "code",
   "execution_count": null,
   "id": "3597f682",
   "metadata": {},
   "outputs": [],
   "source": [
    "# Null: Intuitively, the more a stock is traded,\n",
    "# the more common it would be to have a trade that has a gain of over 200 USD (capital gains)"
   ]
  },
  {
   "cell_type": "code",
   "execution_count": null,
   "id": "fa27f332",
   "metadata": {},
   "outputs": [],
   "source": [
    "# Null: Intuitively, the more a stock is traded,\n",
    "# the more common it would be to have a trade that has a gain of over 200 USD (capital gains)\n",
    "top_10_tickers = merged['ticker'].sort_values().value_counts()[:10].index"
   ]
  },
  {
   "cell_type": "code",
   "execution_count": null,
   "id": "fcf53608",
   "metadata": {},
   "outputs": [],
   "source": [
    "# Looks at the top 10 stocks that were traded, shows that getting over 200 USD in capital gains doesn't depend on ticker\n",
    "merged[merged['ticker'].isin(top_10_tickers)].pivot_table(index='cap_gains_over_200_usd', columns = 'ticker', aggfunc = 'count')['amount'].plot(kind='bar')"
   ]
  },
  {
   "cell_type": "code",
   "execution_count": null,
   "id": "2995c184",
   "metadata": {},
   "outputs": [],
   "source": [
    "top_10_tickers_200_usd = merged[merged['cap_gains_over_200_usd'] == True]['ticker'].value_counts()[:10].index"
   ]
  },
  {
   "cell_type": "code",
   "execution_count": null,
   "id": "680ad501",
   "metadata": {},
   "outputs": [],
   "source": [
    "# Returns how common transactions that made over 200 USD in capital gains actually are, shows that\n",
    "# it's relatively uncommon and unrelated to stock amount\n",
    "merged[merged['ticker'].isin(top_10_tickers_200_usd)].pivot_table(index='cap_gains_over_200_usd', columns = 'ticker', aggfunc = 'count')['amount'].plot(kind='bar')"
   ]
  },
  {
   "cell_type": "code",
   "execution_count": null,
   "id": "aa769fc4",
   "metadata": {},
   "outputs": [],
   "source": [
    "merged.head()"
   ]
  },
  {
   "cell_type": "code",
   "execution_count": null,
   "id": "a38d3450",
   "metadata": {},
   "outputs": [],
   "source": [
    "# Look at top 10 transaction dates (categories) and look at the amounts traded on each date (categories)"
   ]
  },
  {
   "cell_type": "code",
   "execution_count": null,
   "id": "c6f77d66",
   "metadata": {},
   "outputs": [],
   "source": [
    "# Look at top 10 transaction dates (categories) and look at the amounts traded on each date (categories)\n",
    "top_10_most_trades_dates = merged['transaction_date'].value_counts().sort_values()[-10:].index"
   ]
  },
  {
   "cell_type": "code",
   "execution_count": null,
   "id": "28ffad02",
   "metadata": {},
   "outputs": [],
   "source": [
    "merged[merged['transaction_date'].isin(top_10_most_trades_dates)].pivot_table(index='transaction_date', columns='amount_cleaned', aggfunc = 'count', fill_value=0)['type'].plot(kind='barh', width=0.4, ylabel='Num. of transactions', sort_columns=True)"
   ]
  },
  {
   "cell_type": "code",
   "execution_count": null,
   "id": "b6434232",
   "metadata": {},
   "outputs": [],
   "source": [
    "# Look into reps. who made the most transactions and then look at the transactions they made"
   ]
  },
  {
   "cell_type": "code",
   "execution_count": null,
   "id": "1daaca46",
   "metadata": {},
   "outputs": [],
   "source": [
    "# Look into reps. who made the most transactions and then look at the transactions they made\n",
    "top_10_reps_trades = merged['index'].value_counts().sort_values()[-10:].index"
   ]
  },
  {
   "cell_type": "code",
   "execution_count": 53,
   "id": "0c29c68b",
   "metadata": {},
   "outputs": [
    {
     "data": {
      "text/plain": [
       "<AxesSubplot:ylabel='index'>"
      ]
     },
     "execution_count": 53,
     "metadata": {},
     "output_type": "execute_result"
    },
    {
     "data": {
      "image/png": "[encoded data removed]",
      "text/plain": [
       "<Figure size 432x288 with 1 Axes>"
      ]
     },
     "metadata": {
      "needs_background": "light"
     },
     "output_type": "display_data"
    }
   ],
   "source": [
    "merged[merged['index'].isin(top_10_reps_trades)].pivot_table(index='index', columns='amount_cleaned', aggfunc = 'count', fill_value=0)['type'].plot(kind='barh', width=0.4, ylabel='Num. of transactions', sort_columns=True)"
   ]
  },
  {
   "cell_type": "code",
   "execution_count": 30,
   "id": "0a8533e8",
   "metadata": {},
   "outputs": [
    {
     "data": {
      "text/html": [
       "<div>\n",
       "<style scoped>\n",
       "    .dataframe tbody tr th:only-of-type {\n",
       "        vertical-align: middle;\n",
       "    }\n",
       "\n",
       "    .dataframe tbody tr th {\n",
       "        vertical-align: top;\n",
       "    }\n",
       "\n",
       "    .dataframe thead th {\n",
       "        text-align: right;\n",
       "    }\n",
       "</style>\n",
       "<table border=\"1\" class=\"dataframe\">\n",
       "  <thead>\n",
       "    <tr style=\"text-align: right;\">\n",
       "      <th></th>\n",
       "      <th>disclosure_year</th>\n",
       "      <th>cap_gains_over_200_usd</th>\n",
       "    </tr>\n",
       "    <tr>\n",
       "      <th>is_democratic</th>\n",
       "      <th></th>\n",
       "      <th></th>\n",
       "    </tr>\n",
       "  </thead>\n",
       "  <tbody>\n",
       "    <tr>\n",
       "      <th>False</th>\n",
       "      <td>0.009149</td>\n",
       "      <td>0.004277</td>\n",
       "    </tr>\n",
       "    <tr>\n",
       "      <th>True</th>\n",
       "      <td>0.006823</td>\n",
       "      <td>0.002234</td>\n",
       "    </tr>\n",
       "  </tbody>\n",
       "</table>\n",
       "</div>"
      ],
      "text/plain": [
       "               disclosure_year  cap_gains_over_200_usd\n",
       "is_democratic                                         \n",
       "False                 0.009149                0.004277\n",
       "True                  0.006823                0.002234"
      ]
     },
     "execution_count": 30,
     "metadata": {},
     "output_type": "execute_result"
    }
   ],
   "source": [
    "merged.groupby('is_democratic').sem()"
   ]
  },
  {
   "cell_type": "code",
   "execution_count": null,
   "id": "04fd9bf0",
   "metadata": {},
   "outputs": [],
   "source": []
  }
 ],
 "metadata": {
  "kernelspec": {
   "display_name": "Python 3 (ipykernel)",
   "language": "python",
   "name": "python3"
  },
  "language_info": {
   "codemirror_mode": {
    "name": "ipython",
    "version": 3
   },
   "file_extension": ".py",
   "mimetype": "text/x-python",
   "name": "python",
   "nbconvert_exporter": "python",
   "pygments_lexer": "ipython3",
   "version": "3.8.12"
  }
 },
 "nbformat": 4,
 "nbformat_minor": 5
}
